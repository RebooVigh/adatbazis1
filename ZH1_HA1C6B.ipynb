{
    "metadata": {
        "kernelspec": {
            "name": "SQL",
            "display_name": "SQL",
            "language": "sql"
        },
        "language_info": {
            "name": "sql",
            "version": ""
        }
    },
    "nbformat_minor": 2,
    "nbformat": 4,
    "cells": [
        {
            "cell_type": "markdown",
            "source": [
                "1\\. feladat"
            ],
            "metadata": {
                "azdata_cell_guid": "9e0de6c0-5eea-4142-8b34-3572d77c8789"
            },
            "attachments": {}
        },
        {
            "cell_type": "code",
            "source": [
                "SELECT SZALLAS_NEV AS SzállásNeve,\r\n",
                "        ROUND(AVG(CSILLAGOK_SZAMA),0 ) AS ÁtlagosCsillagszám\r\n",
                "FROM Szallashely\r\n",
                "WHERE TIPUS <> 'panzió'\r\n",
                "GROUP BY SZALLAS_NEV\r\n",
                "HAVING ROUND(AVG(CSILLAGOK_SZAMA),0) >= 3;\r\n",
                "\r\n",
                ""
            ],
            "metadata": {
                "azdata_cell_guid": "6ba2bfb9-65fc-499b-acb9-340efb5af0e9",
                "language": "sql",
                "tags": []
            },
            "outputs": [
                {
                    "output_type": "display_data",
                    "data": {
                        "text/html": "(6 rows affected)"
                    },
                    "metadata": {}
                },
                {
                    "output_type": "display_data",
                    "data": {
                        "text/html": "Total execution time: 00:00:00.009"
                    },
                    "metadata": {}
                },
                {
                    "output_type": "execute_result",
                    "execution_count": 9,
                    "data": {
                        "application/vnd.dataresource+json": {
                            "schema": {
                                "fields": [
                                    {
                                        "name": "SzállásNeve"
                                    },
                                    {
                                        "name": "ÁtlagosCsillagszám"
                                    }
                                ]
                            },
                            "data": [
                                {
                                    "SzállásNeve": "Bagoly Hotel",
                                    "ÁtlagosCsillagszám": "3"
                                },
                                {
                                    "SzállásNeve": "Gold Hotel",
                                    "ÁtlagosCsillagszám": "3"
                                },
                                {
                                    "SzállásNeve": "Hotel Három Hattyú",
                                    "ÁtlagosCsillagszám": "4"
                                },
                                {
                                    "SzállásNeve": "Kentaur Hotel",
                                    "ÁtlagosCsillagszám": "3"
                                },
                                {
                                    "SzállásNeve": "Lagúna Hotel",
                                    "ÁtlagosCsillagszám": "4"
                                },
                                {
                                    "SzállásNeve": "Szarvas Hotel",
                                    "ÁtlagosCsillagszám": "4"
                                }
                            ]
                        },
                        "text/html": "<table><tr><th>SzállásNeve</th><th>ÁtlagosCsillagszám</th></tr><tr><td>Bagoly Hotel</td><td>3</td></tr><tr><td>Gold Hotel</td><td>3</td></tr><tr><td>Hotel Három Hattyú</td><td>4</td></tr><tr><td>Kentaur Hotel</td><td>3</td></tr><tr><td>Lagúna Hotel</td><td>4</td></tr><tr><td>Szarvas Hotel</td><td>4</td></tr></table>"
                    },
                    "metadata": {}
                }
            ],
            "execution_count": 9
        },
        {
            "cell_type": "markdown",
            "source": [
                "2\\. feladat"
            ],
            "metadata": {
                "azdata_cell_guid": "5e7db09e-aaec-4a88-a15d-508e598a4ad6"
            },
            "attachments": {}
        },
        {
            "cell_type": "code",
            "source": [
                "SELECT szh.SZALLAS_NEV AS SzállásNeve\r\n",
                "FROM Foglalas f JOIN VENDEG v ON f.UGYFEL_FK = v.USERNEV,\r\n",
                "    Szallashely szh JOIN Szoba sz ON szh.SZALLAS_ID = sz.SZALLAS_FK\r\n",
                "LEFT JOIN \r\n",
                "    foglalások f ON sz. = f.SZOBA_FK\r\n",
                "JOIN \r\n",
                "    szálláshelyek ON szobák.szálláshely_id = szálláshelyek.szálláshely_id\r\n",
                "WHERE \r\n",
                "    f.SZOBA IS NULL;"
            ],
            "metadata": {
                "azdata_cell_guid": "1926b109-26bb-44f0-969c-d0da93bdebc0",
                "language": "sql"
            },
            "outputs": [],
            "execution_count": null
        }
    ]
}