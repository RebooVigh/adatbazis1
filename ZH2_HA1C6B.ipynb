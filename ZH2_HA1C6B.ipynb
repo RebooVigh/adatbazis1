{
    "metadata": {
        "kernelspec": {
            "name": "SQL",
            "display_name": "SQL",
            "language": "sql"
        },
        "language_info": {
            "name": "sql",
            "version": ""
        }
    },
    "nbformat_minor": 2,
    "nbformat": 4,
    "cells": [
        {
            "cell_type": "code",
            "source": [
                "SELECT SZALLAS_NEV AS 'Szállás neve', \r\n",
                "        ROUND(AVG(CSILLAGOk_SZAMA), 2) AS 'Átlagos csillagszám', \r\n",
                "        TIPUS AS 'Típus'\r\n",
                "FROM Szallashely\r\n",
                "WHERE SZALLAS_NEV NOT LIKE '%-%'\r\n",
                "GROUP BY GROUPING SETS ((SZALLAS_NEV), (TIPUS))\r\n",
                ""
            ],
            "metadata": {
                "azdata_cell_guid": "f2619b96-650f-4dbb-9e07-83334f394b7d",
                "language": "sql",
                "tags": []
            },
            "outputs": [
                {
                    "output_type": "display_data",
                    "data": {
                        "text/html": "(22 rows affected)"
                    },
                    "metadata": {}
                },
                {
                    "output_type": "display_data",
                    "data": {
                        "text/html": "Total execution time: 00:00:00.007"
                    },
                    "metadata": {}
                },
                {
                    "output_type": "execute_result",
                    "metadata": {},
                    "execution_count": 1,
                    "data": {
                        "application/vnd.dataresource+json": {
                            "schema": {
                                "fields": [
                                    {
                                        "name": "Szállás neve"
                                    },
                                    {
                                        "name": "Átlagos csillagszám"
                                    },
                                    {
                                        "name": "Típus"
                                    }
                                ]
                            },
                            "data": [
                                {
                                    "Szállás neve": "NULL",
                                    "Átlagos csillagszám": "0",
                                    "Típus": "Apartman"
                                },
                                {
                                    "Szállás neve": "NULL",
                                    "Átlagos csillagszám": "0",
                                    "Típus": "Diákszálló"
                                },
                                {
                                    "Szállás neve": "NULL",
                                    "Átlagos csillagszám": "3",
                                    "Típus": "Hotel"
                                },
                                {
                                    "Szállás neve": "NULL",
                                    "Átlagos csillagszám": "3",
                                    "Típus": "panzió"
                                },
                                {
                                    "Szállás neve": "NULL",
                                    "Átlagos csillagszám": "0",
                                    "Típus": "vendégház"
                                },
                                {
                                    "Szállás neve": "Bagoly Hotel",
                                    "Átlagos csillagszám": "3",
                                    "Típus": "NULL"
                                },
                                {
                                    "Szállás neve": "Családi Ház",
                                    "Átlagos csillagszám": "0",
                                    "Típus": "NULL"
                                },
                                {
                                    "Szállás neve": "Fortuna Apartman",
                                    "Átlagos csillagszám": "0",
                                    "Típus": "NULL"
                                },
                                {
                                    "Szállás neve": "Fortuna panzió",
                                    "Átlagos csillagszám": "3",
                                    "Típus": "NULL"
                                },
                                {
                                    "Szállás neve": "Gold Hotel",
                                    "Átlagos csillagszám": "3",
                                    "Típus": "NULL"
                                },
                                {
                                    "Szállás neve": "Hotel Három Hattyú",
                                    "Átlagos csillagszám": "4",
                                    "Típus": "NULL"
                                },
                                {
                                    "Szállás neve": "Jáde panzió",
                                    "Átlagos csillagszám": "3",
                                    "Típus": "NULL"
                                },
                                {
                                    "Szállás neve": "Kentaur Hotel",
                                    "Átlagos csillagszám": "3",
                                    "Típus": "NULL"
                                },
                                {
                                    "Szállás neve": "Kollégium",
                                    "Átlagos csillagszám": "0",
                                    "Típus": "NULL"
                                },
                                {
                                    "Szállás neve": "Lagúna Hotel",
                                    "Átlagos csillagszám": "4",
                                    "Típus": "NULL"
                                },
                                {
                                    "Szállás neve": "Müller Vendégház",
                                    "Átlagos csillagszám": "0",
                                    "Típus": "NULL"
                                },
                                {
                                    "Szállás neve": "Nyárfás Vendégház",
                                    "Átlagos csillagszám": "0",
                                    "Típus": "NULL"
                                },
                                {
                                    "Szállás neve": "Partiszél Vendégház",
                                    "Átlagos csillagszám": "0",
                                    "Típus": "NULL"
                                },
                                {
                                    "Szállás neve": "Riviéra Panzió",
                                    "Átlagos csillagszám": "3",
                                    "Típus": "NULL"
                                },
                                {
                                    "Szállás neve": "Szarvas Hotel",
                                    "Átlagos csillagszám": "4",
                                    "Típus": "NULL"
                                },
                                {
                                    "Szállás neve": "Szieszta Apartmanház",
                                    "Átlagos csillagszám": "0",
                                    "Típus": "NULL"
                                },
                                {
                                    "Szállás neve": "Tímárház Panzió",
                                    "Átlagos csillagszám": "3",
                                    "Típus": "NULL"
                                }
                            ]
                        },
                        "text/html": [
                            "<table>",
                            "<tr><th>Szállás neve</th><th>Átlagos csillagszám</th><th>Típus</th></tr>",
                            "<tr><td>NULL</td><td>0</td><td>Apartman</td></tr>",
                            "<tr><td>NULL</td><td>0</td><td>Diákszálló</td></tr>",
                            "<tr><td>NULL</td><td>3</td><td>Hotel</td></tr>",
                            "<tr><td>NULL</td><td>3</td><td>panzió</td></tr>",
                            "<tr><td>NULL</td><td>0</td><td>vendégház</td></tr>",
                            "<tr><td>Bagoly Hotel</td><td>3</td><td>NULL</td></tr>",
                            "<tr><td>Családi Ház</td><td>0</td><td>NULL</td></tr>",
                            "<tr><td>Fortuna Apartman</td><td>0</td><td>NULL</td></tr>",
                            "<tr><td>Fortuna panzió</td><td>3</td><td>NULL</td></tr>",
                            "<tr><td>Gold Hotel</td><td>3</td><td>NULL</td></tr>",
                            "<tr><td>Hotel Három Hattyú</td><td>4</td><td>NULL</td></tr>",
                            "<tr><td>Jáde panzió</td><td>3</td><td>NULL</td></tr>",
                            "<tr><td>Kentaur Hotel</td><td>3</td><td>NULL</td></tr>",
                            "<tr><td>Kollégium</td><td>0</td><td>NULL</td></tr>",
                            "<tr><td>Lagúna Hotel</td><td>4</td><td>NULL</td></tr>",
                            "<tr><td>Müller Vendégház</td><td>0</td><td>NULL</td></tr>",
                            "<tr><td>Nyárfás Vendégház</td><td>0</td><td>NULL</td></tr>",
                            "<tr><td>Partiszél Vendégház</td><td>0</td><td>NULL</td></tr>",
                            "<tr><td>Riviéra Panzió</td><td>3</td><td>NULL</td></tr>",
                            "<tr><td>Szarvas Hotel</td><td>4</td><td>NULL</td></tr>",
                            "<tr><td>Szieszta Apartmanház</td><td>0</td><td>NULL</td></tr>",
                            "<tr><td>Tímárház Panzió</td><td>3</td><td>NULL</td></tr>",
                            "</table>"
                        ]
                    }
                }
            ],
            "execution_count": 1
        },
        {
            "cell_type": "code",
            "source": [
                "SELECT s.SZALLAS_NEV AS 'Szállás neve', \r\n",
                "        COUNT(f.FOGLALAS_PK) AS 'Foglalások száma'\r\n",
                "FROM Szallashely s JOIN Szoba sz ON s.SZALLAS_ID = sz.SZALLAS_FK\r\n",
                "                    JOIN foglalas f ON sz.szoba_id = f.szoba_fk\r\n",
                "GROUP BY s.SZALLAS_NEV\r\n",
                "HAVING COUNT(f.FOGLALAS_PK) > (SELECT COUNT(f2.FOGLALAS_PK)\r\n",
                "FROM Szallashely s2 JOIN SZOBA sz2 ON s2.SZALLAS_ID = sz2.SZALLAS_FK\r\n",
                "                    JOIN Foglalas f2 ON sz2.SZOBA_ID = f2.SZOBA_FK\r\n",
                "WHERE s2.SZALLAS_NEV = 'Fortuna panzió');"
            ],
            "metadata": {
                "azdata_cell_guid": "6a67e6a0-d001-4d83-ad33-980e633443f3",
                "language": "sql"
            },
            "outputs": [
                {
                    "output_type": "display_data",
                    "data": {
                        "text/html": "(3 rows affected)"
                    },
                    "metadata": {}
                },
                {
                    "output_type": "display_data",
                    "data": {
                        "text/html": "Total execution time: 00:00:00.016"
                    },
                    "metadata": {}
                },
                {
                    "output_type": "execute_result",
                    "execution_count": 8,
                    "data": {
                        "application/vnd.dataresource+json": {
                            "schema": {
                                "fields": [
                                    {
                                        "name": "SZALLAS_NEV"
                                    },
                                    {
                                        "name": "Foglalások száma"
                                    }
                                ]
                            },
                            "data": [
                                {
                                    "SZALLAS_NEV": "Gold Hotel",
                                    "Foglalások száma": "179"
                                },
                                {
                                    "SZALLAS_NEV": "Hotel Három Hattyú",
                                    "Foglalások száma": "204"
                                },
                                {
                                    "SZALLAS_NEV": "Kentaur Hotel",
                                    "Foglalások száma": "179"
                                }
                            ]
                        },
                        "text/html": "<table><tr><th>SZALLAS_NEV</th><th>Foglalások száma</th></tr><tr><td>Gold Hotel</td><td>179</td></tr><tr><td>Hotel Három Hattyú</td><td>204</td></tr><tr><td>Kentaur Hotel</td><td>179</td></tr></table>"
                    },
                    "metadata": {}
                }
            ],
            "execution_count": 8
        }
    ]
}