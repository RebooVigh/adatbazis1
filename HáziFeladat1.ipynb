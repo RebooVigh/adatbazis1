{
    "metadata": {
        "kernelspec": {
            "name": "SQL",
            "display_name": "SQL",
            "language": "sql"
        },
        "language_info": {
            "name": "sql",
            "version": ""
        }
    },
    "nbformat_minor": 2,
    "nbformat": 4,
    "cells": [
        {
            "cell_type": "code",
            "source": [
                "SELECT COUNT(*) AS 'Sorok száma'\r\n",
                "FROM Rendeles_tetel"
            ],
            "metadata": {
                "azdata_cell_guid": "9b13461b-2a19-482b-a54a-52e5c71da27d",
                "language": "sql"
            },
            "outputs": [
                {
                    "output_type": "display_data",
                    "data": {
                        "text/html": "(1 row affected)"
                    },
                    "metadata": {}
                },
                {
                    "output_type": "display_data",
                    "data": {
                        "text/html": "Total execution time: 00:00:00.127"
                    },
                    "metadata": {}
                },
                {
                    "output_type": "execute_result",
                    "metadata": {},
                    "execution_count": 34,
                    "data": {
                        "application/vnd.dataresource+json": {
                            "schema": {
                                "fields": [
                                    {
                                        "name": "Sorok száma"
                                    }
                                ]
                            },
                            "data": [
                                {
                                    "Sorok száma": "163179"
                                }
                            ]
                        },
                        "text/html": [
                            "<table>",
                            "<tr><th>Sorok száma</th></tr>",
                            "<tr><td>163179</td></tr>",
                            "</table>"
                        ]
                    }
                }
            ],
            "execution_count": 34
        },
        {
            "cell_type": "code",
            "source": [
                "SELECT row_type,\r\n",
                "    COUNT(*) row_count\r\n",
                "FROM \r\n",
                "    (SELECT \r\n",
                "        CASE WHEN EGYSEGAR IS NULL THEN 'Null'\r\n",
                "            ELSE 'Non Empty' \r\n",
                "            END AS row_type\r\n",
                "        FROM Rendeles_tetel) rows\r\n",
                "GROUP BY row_type"
            ],
            "metadata": {
                "language": "sql",
                "azdata_cell_guid": "95c07fe5-bee3-4bd6-8143-89fb09775ebf"
            },
            "outputs": [
                {
                    "output_type": "display_data",
                    "data": {
                        "text/html": "(2 rows affected)"
                    },
                    "metadata": {}
                },
                {
                    "output_type": "display_data",
                    "data": {
                        "text/html": "Total execution time: 00:00:00.110"
                    },
                    "metadata": {}
                },
                {
                    "output_type": "execute_result",
                    "metadata": {},
                    "execution_count": 36,
                    "data": {
                        "application/vnd.dataresource+json": {
                            "schema": {
                                "fields": [
                                    {
                                        "name": "row_type"
                                    },
                                    {
                                        "name": "row_count"
                                    }
                                ]
                            },
                            "data": [
                                {
                                    "row_type": "Non Empty",
                                    "row_count": "163026"
                                },
                                {
                                    "row_type": "Null",
                                    "row_count": "153"
                                }
                            ]
                        },
                        "text/html": [
                            "<table>",
                            "<tr><th>row_type</th><th>row_count</th></tr>",
                            "<tr><td>Non Empty</td><td>163026</td></tr>",
                            "<tr><td>Null</td><td>153</td></tr>",
                            "</table>"
                        ]
                    }
                }
            ],
            "execution_count": 36
        },
        {
            "cell_type": "code",
            "source": [
                "SELECT MIN(EGYSEGAR) AS Minimum, \r\n",
                "       MAX(EGYSEGAR) AS Maximum, \r\n",
                "       AVG(EGYSEGAR) AS Átlag, \r\n",
                "       STDEV(EGYSEGAR) AS Szórás, \r\n",
                "       VAR(EGYSEGAR) AS Variancia\r\n",
                "FROM Rendeles_tetel\r\n",
                "WHERE EGYSEGAR IS NOT NULL AND EGYSEGAR > 0"
            ],
            "metadata": {
                "azdata_cell_guid": "7025a896-2440-4d0e-8d71-0b55f367f298",
                "language": "sql"
            },
            "outputs": [
                {
                    "output_type": "display_data",
                    "data": {
                        "text/html": "(1 row affected)"
                    },
                    "metadata": {}
                },
                {
                    "output_type": "display_data",
                    "data": {
                        "text/html": "Total execution time: 00:00:00.091"
                    },
                    "metadata": {}
                },
                {
                    "output_type": "execute_result",
                    "metadata": {},
                    "execution_count": 39,
                    "data": {
                        "application/vnd.dataresource+json": {
                            "schema": {
                                "fields": [
                                    {
                                        "name": "Minimum"
                                    },
                                    {
                                        "name": "Maximum"
                                    },
                                    {
                                        "name": "Átlag"
                                    },
                                    {
                                        "name": "Szórás"
                                    },
                                    {
                                        "name": "Variancia"
                                    }
                                ]
                            },
                            "data": [
                                {
                                    "Minimum": "2",
                                    "Maximum": "46000",
                                    "Átlag": "1874,5688759213758",
                                    "Szórás": "5847,713380391563",
                                    "Variancia": "34195751,77921052"
                                }
                            ]
                        },
                        "text/html": [
                            "<table>",
                            "<tr><th>Minimum</th><th>Maximum</th><th>Átlag</th><th>Szórás</th><th>Variancia</th></tr>",
                            "<tr><td>2</td><td>46000</td><td>1874,5688759213758</td><td>5847,713380391563</td><td>34195751,77921052</td></tr>",
                            "</table>"
                        ]
                    }
                }
            ],
            "execution_count": 39
        },
        {
            "cell_type": "code",
            "source": [
                "SELECT MIN(MENNYISEG) AS Minimum, \r\n",
                "       MAX(MENNYISEG) AS Maximum, \r\n",
                "       AVG(MENNYISEG) AS Átlag, \r\n",
                "       STDEV(MENNYISEG) AS Szórás, \r\n",
                "       VAR(MENNYISEG) AS Variancia\r\n",
                "FROM Rendeles_tetel\r\n",
                "WHERE MENNYISEG IS NOT NULL AND MENNYISEG > 0"
            ],
            "metadata": {
                "language": "sql",
                "azdata_cell_guid": "fec58ed9-5a8f-4976-9b9e-d0b97dd0db25"
            },
            "outputs": [
                {
                    "output_type": "display_data",
                    "data": {
                        "text/html": "(1 row affected)"
                    },
                    "metadata": {}
                },
                {
                    "output_type": "display_data",
                    "data": {
                        "text/html": "Total execution time: 00:00:00.074"
                    },
                    "metadata": {}
                },
                {
                    "output_type": "execute_result",
                    "metadata": {},
                    "execution_count": 40,
                    "data": {
                        "application/vnd.dataresource+json": {
                            "schema": {
                                "fields": [
                                    {
                                        "name": "Minimum"
                                    },
                                    {
                                        "name": "Maximum"
                                    },
                                    {
                                        "name": "Átlag"
                                    },
                                    {
                                        "name": "Szórás"
                                    },
                                    {
                                        "name": "Variancia"
                                    }
                                ]
                            },
                            "data": [
                                {
                                    "Minimum": "1",
                                    "Maximum": "90",
                                    "Átlag": "39,2081456559974",
                                    "Szórás": "28,727141680633416",
                                    "Variancia": "825,2486691391857"
                                }
                            ]
                        },
                        "text/html": [
                            "<table>",
                            "<tr><th>Minimum</th><th>Maximum</th><th>Átlag</th><th>Szórás</th><th>Variancia</th></tr>",
                            "<tr><td>1</td><td>90</td><td>39,2081456559974</td><td>28,727141680633416</td><td>825,2486691391857</td></tr>",
                            "</table>"
                        ]
                    }
                }
            ],
            "execution_count": 40
        },
        {
            "cell_type": "code",
            "source": [
                "SELECT TOP 10\r\n",
                "        MENNYISEG,\r\n",
                "        TERMEKKOD\r\n",
                "FROM Rendeles_tetel\r\n",
                "ORDER BY MENNYISEG DESC"
            ],
            "metadata": {
                "language": "sql",
                "azdata_cell_guid": "2375126b-582d-4309-a9fd-8ac97f7edc7d"
            },
            "outputs": [
                {
                    "output_type": "display_data",
                    "data": {
                        "text/html": "(10 rows affected)"
                    },
                    "metadata": {}
                },
                {
                    "output_type": "display_data",
                    "data": {
                        "text/html": "Total execution time: 00:00:00.047"
                    },
                    "metadata": {}
                },
                {
                    "output_type": "execute_result",
                    "metadata": {},
                    "execution_count": 46,
                    "data": {
                        "application/vnd.dataresource+json": {
                            "schema": {
                                "fields": [
                                    {
                                        "name": "MENNYISEG"
                                    },
                                    {
                                        "name": "TERMEKKOD"
                                    }
                                ]
                            },
                            "data": [
                                {
                                    "MENNYISEG": "90",
                                    "TERMEKKOD": "03010344T"
                                },
                                {
                                    "MENNYISEG": "90",
                                    "TERMEKKOD": "06040183T"
                                },
                                {
                                    "MENNYISEG": "90",
                                    "TERMEKKOD": "06080423T"
                                },
                                {
                                    "MENNYISEG": "90",
                                    "TERMEKKOD": "06080415T"
                                },
                                {
                                    "MENNYISEG": "90",
                                    "TERMEKKOD": "06040181T"
                                },
                                {
                                    "MENNYISEG": "90",
                                    "TERMEKKOD": "06040446T"
                                },
                                {
                                    "MENNYISEG": "90",
                                    "TERMEKKOD": "02040294T"
                                },
                                {
                                    "MENNYISEG": "90",
                                    "TERMEKKOD": "06040246T"
                                },
                                {
                                    "MENNYISEG": "90",
                                    "TERMEKKOD": "06080333T"
                                },
                                {
                                    "MENNYISEG": "90",
                                    "TERMEKKOD": "02040292T"
                                }
                            ]
                        },
                        "text/html": [
                            "<table>",
                            "<tr><th>MENNYISEG</th><th>TERMEKKOD</th></tr>",
                            "<tr><td>90</td><td>03010344T</td></tr>",
                            "<tr><td>90</td><td>06040183T</td></tr>",
                            "<tr><td>90</td><td>06080423T</td></tr>",
                            "<tr><td>90</td><td>06080415T</td></tr>",
                            "<tr><td>90</td><td>06040181T</td></tr>",
                            "<tr><td>90</td><td>06040446T</td></tr>",
                            "<tr><td>90</td><td>02040294T</td></tr>",
                            "<tr><td>90</td><td>06040246T</td></tr>",
                            "<tr><td>90</td><td>06080333T</td></tr>",
                            "<tr><td>90</td><td>02040292T</td></tr>",
                            "</table>"
                        ]
                    }
                }
            ],
            "execution_count": 46
        },
        {
            "cell_type": "code",
            "source": [
                "SELECT TOP 10\r\n",
                "    TERMEKKOD AS Termékkód, \r\n",
                "    COUNT(*) AS 'rendelés(db)'\r\n",
                "FROM Rendeles_tetel\r\n",
                "WHERE TERMEKKOD IS NOT null\r\n",
                "GROUP BY TERMEKKOD\r\n",
                "ORDER BY COUNT(*) desc"
            ],
            "metadata": {
                "azdata_cell_guid": "aa1acbb4-16f2-4485-afc1-ddf8dc7f2030",
                "language": "sql"
            },
            "outputs": [
                {
                    "output_type": "display_data",
                    "data": {
                        "text/html": "(10 rows affected)"
                    },
                    "metadata": {}
                },
                {
                    "output_type": "display_data",
                    "data": {
                        "text/html": "Total execution time: 00:00:00.095"
                    },
                    "metadata": {}
                },
                {
                    "output_type": "execute_result",
                    "metadata": {},
                    "execution_count": 42,
                    "data": {
                        "application/vnd.dataresource+json": {
                            "schema": {
                                "fields": [
                                    {
                                        "name": "Termékkód"
                                    },
                                    {
                                        "name": "rendelés(db)"
                                    }
                                ]
                            },
                            "data": [
                                {
                                    "Termékkód": "L023-FE301",
                                    "rendelés(db)": "994"
                                },
                                {
                                    "Termékkód": "G013-NA201",
                                    "rendelés(db)": "991"
                                },
                                {
                                    "Termékkód": "G029-FE307",
                                    "rendelés(db)": "985"
                                },
                                {
                                    "Termékkód": "N039-AL222",
                                    "rendelés(db)": "974"
                                },
                                {
                                    "Termékkód": "G073-CI410",
                                    "rendelés(db)": "967"
                                },
                                {
                                    "Termékkód": "N019-FE301",
                                    "rendelés(db)": "966"
                                },
                                {
                                    "Termékkód": "N029-AL212",
                                    "rendelés(db)": "966"
                                },
                                {
                                    "Termékkód": "G048-PO218",
                                    "rendelés(db)": "957"
                                },
                                {
                                    "Termékkód": "G038-FE316",
                                    "rendelés(db)": "957"
                                },
                                {
                                    "Termékkód": "F007-NA201",
                                    "rendelés(db)": "955"
                                }
                            ]
                        },
                        "text/html": [
                            "<table>",
                            "<tr><th>Termékkód</th><th>rendelés(db)</th></tr>",
                            "<tr><td>L023-FE301</td><td>994</td></tr>",
                            "<tr><td>G013-NA201</td><td>991</td></tr>",
                            "<tr><td>G029-FE307</td><td>985</td></tr>",
                            "<tr><td>N039-AL222</td><td>974</td></tr>",
                            "<tr><td>G073-CI410</td><td>967</td></tr>",
                            "<tr><td>N019-FE301</td><td>966</td></tr>",
                            "<tr><td>N029-AL212</td><td>966</td></tr>",
                            "<tr><td>G048-PO218</td><td>957</td></tr>",
                            "<tr><td>G038-FE316</td><td>957</td></tr>",
                            "<tr><td>F007-NA201</td><td>955</td></tr>",
                            "</table>"
                        ]
                    }
                }
            ],
            "execution_count": 42
        },
        {
            "cell_type": "code",
            "source": [
                "SELECT \r\n",
                "     TERMEKKOD AS Termékkód, \r\n",
                "    COUNT(*) 'rendelés(db)'\r\n",
                "FROM Rendeles_tetel\r\n",
                "WHERE TERMEKKOD IS NOT null\r\n",
                "GROUP BY TERMEKKOD\r\n",
                "ORDER BY TERMEKKOD"
            ],
            "metadata": {
                "azdata_cell_guid": "e44abb3f-fe7b-43c6-a795-55fbb7008d1b",
                "language": "sql"
            },
            "outputs": [
                {
                    "output_type": "display_data",
                    "data": {
                        "text/html": "(548 rows affected)"
                    },
                    "metadata": {}
                },
                {
                    "output_type": "display_data",
                    "data": {
                        "text/html": "Total execution time: 00:00:00.129"
                    },
                    "metadata": {}
                },
                {
                    "output_type": "execute_result",
                    "metadata": {},
                    "execution_count": 41,
                    "data": {
                        "application/vnd.dataresource+json": {
                            "schema": {
                                "fields": [
                                    {
                                        "name": "Termékkód"
                                    },
                                    {
                                        "name": "rendelés(db)"
                                    }
                                ]
                            },
                            "data": [
                                {
                                    "Termékkód": "01010001T",
                                    "rendelés(db)": "264"
                                },
                                {
                                    "Termékkód": "01010110T",
                                    "rendelés(db)": "270"
                                },
                                {
                                    "Termékkód": "01010304T",
                                    "rendelés(db)": "245"
                                },
                                {
                                    "Termékkód": "01020299T",
                                    "rendelés(db)": "247"
                                },
                                {
                                    "Termékkód": "01020300T",
                                    "rendelés(db)": "254"
                                },
                                {
                                    "Termékkód": "01030091T",
                                    "rendelés(db)": "272"
                                },
                                {
                                    "Termékkód": "01030092T",
                                    "rendelés(db)": "273"
                                },
                                {
                                    "Termékkód": "01040307T",
                                    "rendelés(db)": "244"
                                },
                                {
                                    "Termékkód": "01040502T",
                                    "rendelés(db)": "267"
                                },
                                {
                                    "Termékkód": "01080093T",
                                    "rendelés(db)": "279"
                                },
                                {
                                    "Termékkód": "01080512T",
                                    "rendelés(db)": "263"
                                },
                                {
                                    "Termékkód": "01080513T",
                                    "rendelés(db)": "293"
                                },
                                {
                                    "Termékkód": "01090498T",
                                    "rendelés(db)": "272"
                                },
                                {
                                    "Termékkód": "01090499T",
                                    "rendelés(db)": "261"
                                },
                                {
                                    "Termékkód": "01090500T",
                                    "rendelés(db)": "234"
                                },
                                {
                                    "Termékkód": "01090501T",
                                    "rendelés(db)": "220"
                                },
                                {
                                    "Termékkód": "01090515T",
                                    "rendelés(db)": "252"
                                },
                                {
                                    "Termékkód": "01090516T",
                                    "rendelés(db)": "251"
                                },
                                {
                                    "Termékkód": "01090517T",
                                    "rendelés(db)": "247"
                                },
                                {
                                    "Termékkód": "01100070T",
                                    "rendelés(db)": "277"
                                },
                                {
                                    "Termékkód": "01100071T",
                                    "rendelés(db)": "246"
                                },
                                {
                                    "Termékkód": "01100072T",
                                    "rendelés(db)": "265"
                                },
                                {
                                    "Termékkód": "01100094T",
                                    "rendelés(db)": "271"
                                },
                                {
                                    "Termékkód": "01100095T",
                                    "rendelés(db)": "244"
                                },
                                {
                                    "Termékkód": "01100096T",
                                    "rendelés(db)": "281"
                                },
                                {
                                    "Termékkód": "01100496T",
                                    "rendelés(db)": "253"
                                },
                                {
                                    "Termékkód": "01100497T",
                                    "rendelés(db)": "268"
                                },
                                {
                                    "Termékkód": "01100503T",
                                    "rendelés(db)": "297"
                                },
                                {
                                    "Termékkód": "01100504T",
                                    "rendelés(db)": "246"
                                },
                                {
                                    "Termékkód": "01100505T",
                                    "rendelés(db)": "256"
                                },
                                {
                                    "Termékkód": "01100509T",
                                    "rendelés(db)": "260"
                                },
                                {
                                    "Termékkód": "01100510T",
                                    "rendelés(db)": "233"
                                },
                                {
                                    "Termékkód": "02010028T",
                                    "rendelés(db)": "264"
                                },
                                {
                                    "Termékkód": "02020029T",
                                    "rendelés(db)": "259"
                                },
                                {
                                    "Termékkód": "02020032T",
                                    "rendelés(db)": "278"
                                },
                                {
                                    "Termékkód": "02020033T",
                                    "rendelés(db)": "266"
                                },
                                {
                                    "Termékkód": "02020037T",
                                    "rendelés(db)": "273"
                                },
                                {
                                    "Termékkód": "02020245T",
                                    "rendelés(db)": "252"
                                },
                                {
                                    "Termékkód": "02020444T",
                                    "rendelés(db)": "265"
                                },
                                {
                                    "Termékkód": "02030040T",
                                    "rendelés(db)": "265"
                                },
                                {
                                    "Termékkód": "02030041T",
                                    "rendelés(db)": "261"
                                },
                                {
                                    "Termékkód": "02030042T",
                                    "rendelés(db)": "245"
                                },
                                {
                                    "Termékkód": "02030043T",
                                    "rendelés(db)": "244"
                                },
                                {
                                    "Termékkód": "02030044T",
                                    "rendelés(db)": "249"
                                },
                                {
                                    "Termékkód": "02040002T",
                                    "rendelés(db)": "255"
                                },
                                {
                                    "Termékkód": "02040025T",
                                    "rendelés(db)": "264"
                                },
                                {
                                    "Termékkód": "02040145T",
                                    "rendelés(db)": "263"
                                },
                                {
                                    "Termékkód": "02040146T",
                                    "rendelés(db)": "257"
                                },
                                {
                                    "Termékkód": "02040147T",
                                    "rendelés(db)": "252"
                                },
                                {
                                    "Termékkód": "02040148T",
                                    "rendelés(db)": "255"
                                },
                                {
                                    "Termékkód": "02040149T",
                                    "rendelés(db)": "250"
                                },
                                {
                                    "Termékkód": "02040176T",
                                    "rendelés(db)": "261"
                                },
                                {
                                    "Termékkód": "02040177T",
                                    "rendelés(db)": "256"
                                },
                                {
                                    "Termékkód": "02040178T",
                                    "rendelés(db)": "249"
                                },
                                {
                                    "Termékkód": "02040194T",
                                    "rendelés(db)": "255"
                                },
                                {
                                    "Termékkód": "02040195T",
                                    "rendelés(db)": "273"
                                },
                                {
                                    "Termékkód": "02040196T",
                                    "rendelés(db)": "260"
                                },
                                {
                                    "Termékkód": "02040197T",
                                    "rendelés(db)": "293"
                                },
                                {
                                    "Termékkód": "02040198T",
                                    "rendelés(db)": "246"
                                },
                                {
                                    "Termékkód": "02040199T",
                                    "rendelés(db)": "240"
                                },
                                {
                                    "Termékkód": "02040200T",
                                    "rendelés(db)": "261"
                                },
                                {
                                    "Termékkód": "02040206T",
                                    "rendelés(db)": "270"
                                },
                                {
                                    "Termékkód": "02040207T",
                                    "rendelés(db)": "253"
                                },
                                {
                                    "Termékkód": "02040208T",
                                    "rendelés(db)": "254"
                                },
                                {
                                    "Termékkód": "02040209T",
                                    "rendelés(db)": "255"
                                },
                                {
                                    "Termékkód": "02040210T",
                                    "rendelés(db)": "252"
                                },
                                {
                                    "Termékkód": "02040211T",
                                    "rendelés(db)": "263"
                                },
                                {
                                    "Termékkód": "02040214T",
                                    "rendelés(db)": "269"
                                },
                                {
                                    "Termékkód": "02040290T",
                                    "rendelés(db)": "278"
                                },
                                {
                                    "Termékkód": "02040291T",
                                    "rendelés(db)": "251"
                                },
                                {
                                    "Termékkód": "02040292T",
                                    "rendelés(db)": "250"
                                },
                                {
                                    "Termékkód": "02040293T",
                                    "rendelés(db)": "266"
                                },
                                {
                                    "Termékkód": "02040294T",
                                    "rendelés(db)": "279"
                                },
                                {
                                    "Termékkód": "02040295T",
                                    "rendelés(db)": "256"
                                },
                                {
                                    "Termékkód": "02040296T",
                                    "rendelés(db)": "220"
                                },
                                {
                                    "Termékkód": "02040297T",
                                    "rendelés(db)": "230"
                                },
                                {
                                    "Termékkód": "02040298T",
                                    "rendelés(db)": "258"
                                },
                                {
                                    "Termékkód": "02040308T",
                                    "rendelés(db)": "264"
                                },
                                {
                                    "Termékkód": "02040309T",
                                    "rendelés(db)": "252"
                                },
                                {
                                    "Termékkód": "02040401T",
                                    "rendelés(db)": "262"
                                },
                                {
                                    "Termékkód": "02040402T",
                                    "rendelés(db)": "248"
                                },
                                {
                                    "Termékkód": "02040403T",
                                    "rendelés(db)": "258"
                                },
                                {
                                    "Termékkód": "02040404T",
                                    "rendelés(db)": "254"
                                },
                                {
                                    "Termékkód": "02040405T",
                                    "rendelés(db)": "219"
                                },
                                {
                                    "Termékkód": "02040406T",
                                    "rendelés(db)": "260"
                                },
                                {
                                    "Termékkód": "02040506T",
                                    "rendelés(db)": "256"
                                },
                                {
                                    "Termékkód": "02040507T",
                                    "rendelés(db)": "263"
                                },
                                {
                                    "Termékkód": "02040508T",
                                    "rendelés(db)": "239"
                                },
                                {
                                    "Termékkód": "02050460T",
                                    "rendelés(db)": "265"
                                },
                                {
                                    "Termékkód": "02050461T",
                                    "rendelés(db)": "249"
                                },
                                {
                                    "Termékkód": "02060034T",
                                    "rendelés(db)": "254"
                                },
                                {
                                    "Termékkód": "02060038T",
                                    "rendelés(db)": "249"
                                },
                                {
                                    "Termékkód": "02060039T",
                                    "rendelés(db)": "273"
                                },
                                {
                                    "Termékkód": "02060447T",
                                    "rendelés(db)": "273"
                                },
                                {
                                    "Termékkód": "02060448T",
                                    "rendelés(db)": "253"
                                },
                                {
                                    "Termékkód": "02080069T",
                                    "rendelés(db)": "258"
                                },
                                {
                                    "Termékkód": "02080081T",
                                    "rendelés(db)": "275"
                                },
                                {
                                    "Termékkód": "02080109T",
                                    "rendelés(db)": "266"
                                },
                                {
                                    "Termékkód": "02080226T",
                                    "rendelés(db)": "273"
                                },
                                {
                                    "Termékkód": "02080431T",
                                    "rendelés(db)": "230"
                                },
                                {
                                    "Termékkód": "02080432T",
                                    "rendelés(db)": "255"
                                },
                                {
                                    "Termékkód": "02080433T",
                                    "rendelés(db)": "243"
                                },
                                {
                                    "Termékkód": "02080434T",
                                    "rendelés(db)": "236"
                                },
                                {
                                    "Termékkód": "02080435T",
                                    "rendelés(db)": "254"
                                },
                                {
                                    "Termékkód": "02080436T",
                                    "rendelés(db)": "260"
                                },
                                {
                                    "Termékkód": "02080449T",
                                    "rendelés(db)": "257"
                                },
                                {
                                    "Termékkód": "02080450T",
                                    "rendelés(db)": "234"
                                },
                                {
                                    "Termékkód": "02080451T",
                                    "rendelés(db)": "259"
                                },
                                {
                                    "Termékkód": "02080452T",
                                    "rendelés(db)": "248"
                                },
                                {
                                    "Termékkód": "02080453T",
                                    "rendelés(db)": "279"
                                },
                                {
                                    "Termékkód": "02080454T",
                                    "rendelés(db)": "241"
                                },
                                {
                                    "Termékkód": "02080455T",
                                    "rendelés(db)": "254"
                                },
                                {
                                    "Termékkód": "02080456T",
                                    "rendelés(db)": "254"
                                },
                                {
                                    "Termékkód": "02080511T",
                                    "rendelés(db)": "250"
                                },
                                {
                                    "Termékkód": "02080514T",
                                    "rendelés(db)": "249"
                                },
                                {
                                    "Termékkód": "03010342T",
                                    "rendelés(db)": "270"
                                },
                                {
                                    "Termékkód": "03010344T",
                                    "rendelés(db)": "269"
                                },
                                {
                                    "Termékkód": "03010345T",
                                    "rendelés(db)": "259"
                                },
                                {
                                    "Termékkód": "03050076T",
                                    "rendelés(db)": "249"
                                },
                                {
                                    "Termékkód": "03050077T",
                                    "rendelés(db)": "263"
                                },
                                {
                                    "Termékkód": "03050078T",
                                    "rendelés(db)": "222"
                                },
                                {
                                    "Termékkód": "03050079T",
                                    "rendelés(db)": "239"
                                },
                                {
                                    "Termékkód": "03050080T",
                                    "rendelés(db)": "282"
                                },
                                {
                                    "Termékkód": "03050457T",
                                    "rendelés(db)": "244"
                                },
                                {
                                    "Termékkód": "03050458T",
                                    "rendelés(db)": "239"
                                },
                                {
                                    "Termékkód": "03050459T",
                                    "rendelés(db)": "276"
                                },
                                {
                                    "Termékkód": "03080003T",
                                    "rendelés(db)": "272"
                                },
                                {
                                    "Termékkód": "03080004T",
                                    "rendelés(db)": "257"
                                },
                                {
                                    "Termékkód": "03080005T",
                                    "rendelés(db)": "225"
                                },
                                {
                                    "Termékkód": "03080006T",
                                    "rendelés(db)": "254"
                                },
                                {
                                    "Termékkód": "03080007T",
                                    "rendelés(db)": "242"
                                },
                                {
                                    "Termékkód": "03080008T",
                                    "rendelés(db)": "244"
                                },
                                {
                                    "Termékkód": "03080009T",
                                    "rendelés(db)": "277"
                                },
                                {
                                    "Termékkód": "03080010T",
                                    "rendelés(db)": "227"
                                },
                                {
                                    "Termékkód": "03080011T",
                                    "rendelés(db)": "268"
                                },
                                {
                                    "Termékkód": "03080012T",
                                    "rendelés(db)": "267"
                                },
                                {
                                    "Termékkód": "03080013T",
                                    "rendelés(db)": "268"
                                },
                                {
                                    "Termékkód": "03080014T",
                                    "rendelés(db)": "250"
                                },
                                {
                                    "Termékkód": "03080015T",
                                    "rendelés(db)": "270"
                                },
                                {
                                    "Termékkód": "03080016T",
                                    "rendelés(db)": "258"
                                },
                                {
                                    "Termékkód": "03080017T",
                                    "rendelés(db)": "229"
                                },
                                {
                                    "Termékkód": "03080018T",
                                    "rendelés(db)": "261"
                                },
                                {
                                    "Termékkód": "03080019T",
                                    "rendelés(db)": "255"
                                },
                                {
                                    "Termékkód": "03080020T",
                                    "rendelés(db)": "248"
                                },
                                {
                                    "Termékkód": "03080021T",
                                    "rendelés(db)": "244"
                                },
                                {
                                    "Termékkód": "03080030T",
                                    "rendelés(db)": "253"
                                },
                                {
                                    "Termékkód": "03080031T",
                                    "rendelés(db)": "260"
                                },
                                {
                                    "Termékkód": "03080437T",
                                    "rendelés(db)": "291"
                                },
                                {
                                    "Termékkód": "03080438T",
                                    "rendelés(db)": "253"
                                },
                                {
                                    "Termékkód": "03080439T",
                                    "rendelés(db)": "235"
                                },
                                {
                                    "Termékkód": "04020445T",
                                    "rendelés(db)": "253"
                                },
                                {
                                    "Termékkód": "04030234T",
                                    "rendelés(db)": "263"
                                },
                                {
                                    "Termékkód": "04030235T",
                                    "rendelés(db)": "264"
                                },
                                {
                                    "Termékkód": "04030236T",
                                    "rendelés(db)": "262"
                                },
                                {
                                    "Termékkód": "04030237T",
                                    "rendelés(db)": "283"
                                },
                                {
                                    "Termékkód": "04030238T",
                                    "rendelés(db)": "257"
                                },
                                {
                                    "Termékkód": "04030239T",
                                    "rendelés(db)": "270"
                                },
                                {
                                    "Termékkód": "04030240T",
                                    "rendelés(db)": "285"
                                },
                                {
                                    "Termékkód": "04030241T",
                                    "rendelés(db)": "249"
                                },
                                {
                                    "Termékkód": "04030242T",
                                    "rendelés(db)": "241"
                                },
                                {
                                    "Termékkód": "04030243T",
                                    "rendelés(db)": "259"
                                },
                                {
                                    "Termékkód": "04030260T",
                                    "rendelés(db)": "251"
                                },
                                {
                                    "Termékkód": "04030261T",
                                    "rendelés(db)": "269"
                                },
                                {
                                    "Termékkód": "04030262T",
                                    "rendelés(db)": "255"
                                },
                                {
                                    "Termékkód": "04030263T",
                                    "rendelés(db)": "247"
                                },
                                {
                                    "Termékkód": "04030264T",
                                    "rendelés(db)": "246"
                                },
                                {
                                    "Termékkód": "04030265T",
                                    "rendelés(db)": "272"
                                },
                                {
                                    "Termékkód": "04030266T",
                                    "rendelés(db)": "257"
                                },
                                {
                                    "Termékkód": "04030285T",
                                    "rendelés(db)": "239"
                                },
                                {
                                    "Termékkód": "04030286T",
                                    "rendelés(db)": "277"
                                },
                                {
                                    "Termékkód": "04030287T",
                                    "rendelés(db)": "291"
                                },
                                {
                                    "Termékkód": "04030288T",
                                    "rendelés(db)": "266"
                                },
                                {
                                    "Termékkód": "04030289T",
                                    "rendelés(db)": "243"
                                },
                                {
                                    "Termékkód": "04040090T",
                                    "rendelés(db)": "261"
                                },
                                {
                                    "Termékkód": "04040387T",
                                    "rendelés(db)": "242"
                                },
                                {
                                    "Termékkód": "04050022T",
                                    "rendelés(db)": "260"
                                },
                                {
                                    "Termékkód": "04050023T",
                                    "rendelés(db)": "276"
                                },
                                {
                                    "Termékkód": "04050024T",
                                    "rendelés(db)": "229"
                                },
                                {
                                    "Termékkód": "04050035T",
                                    "rendelés(db)": "270"
                                },
                                {
                                    "Termékkód": "04050073T",
                                    "rendelés(db)": "270"
                                },
                                {
                                    "Termékkód": "04050074T",
                                    "rendelés(db)": "253"
                                },
                                {
                                    "Termékkód": "04050075T",
                                    "rendelés(db)": "254"
                                },
                                {
                                    "Termékkód": "04050171T",
                                    "rendelés(db)": "250"
                                },
                                {
                                    "Termékkód": "04050187T",
                                    "rendelés(db)": "260"
                                },
                                {
                                    "Termékkód": "04050203T",
                                    "rendelés(db)": "249"
                                },
                                {
                                    "Termékkód": "04050204T",
                                    "rendelés(db)": "241"
                                },
                                {
                                    "Termékkód": "04050220T",
                                    "rendelés(db)": "247"
                                },
                                {
                                    "Termékkód": "04050221T",
                                    "rendelés(db)": "284"
                                },
                                {
                                    "Termékkód": "04050222T",
                                    "rendelés(db)": "268"
                                },
                                {
                                    "Termékkód": "04050223T",
                                    "rendelés(db)": "284"
                                },
                                {
                                    "Termékkód": "04050224T",
                                    "rendelés(db)": "277"
                                },
                                {
                                    "Termékkód": "04050225T",
                                    "rendelés(db)": "259"
                                },
                                {
                                    "Termékkód": "04050250T",
                                    "rendelés(db)": "250"
                                },
                                {
                                    "Termékkód": "04050251T",
                                    "rendelés(db)": "271"
                                },
                                {
                                    "Termékkód": "04050252T",
                                    "rendelés(db)": "272"
                                },
                                {
                                    "Termékkód": "04050253T",
                                    "rendelés(db)": "269"
                                },
                                {
                                    "Termékkód": "04050254T",
                                    "rendelés(db)": "278"
                                },
                                {
                                    "Termékkód": "04050255T",
                                    "rendelés(db)": "263"
                                },
                                {
                                    "Termékkód": "04050256T",
                                    "rendelés(db)": "245"
                                },
                                {
                                    "Termékkód": "04050267T",
                                    "rendelés(db)": "284"
                                },
                                {
                                    "Termékkód": "04050268T",
                                    "rendelés(db)": "265"
                                },
                                {
                                    "Termékkód": "04050269T",
                                    "rendelés(db)": "267"
                                },
                                {
                                    "Termékkód": "04050320T",
                                    "rendelés(db)": "277"
                                },
                                {
                                    "Termékkód": "04050321T",
                                    "rendelés(db)": "224"
                                },
                                {
                                    "Termékkód": "04050322T",
                                    "rendelés(db)": "253"
                                },
                                {
                                    "Termékkód": "04050358T",
                                    "rendelés(db)": "266"
                                },
                                {
                                    "Termékkód": "04080270T",
                                    "rendelés(db)": "268"
                                },
                                {
                                    "Termékkód": "04080271T",
                                    "rendelés(db)": "256"
                                },
                                {
                                    "Termékkód": "04080272T",
                                    "rendelés(db)": "271"
                                },
                                {
                                    "Termékkód": "04080442T",
                                    "rendelés(db)": "255"
                                },
                                {
                                    "Termékkód": "04080443T",
                                    "rendelés(db)": "264"
                                },
                                {
                                    "Termékkód": "04110066T",
                                    "rendelés(db)": "225"
                                },
                                {
                                    "Termékkód": "04110067T",
                                    "rendelés(db)": "280"
                                },
                                {
                                    "Termékkód": "04110068T",
                                    "rendelés(db)": "250"
                                },
                                {
                                    "Termékkód": "04110227T",
                                    "rendelés(db)": "271"
                                },
                                {
                                    "Termékkód": "04110228T",
                                    "rendelés(db)": "229"
                                },
                                {
                                    "Termékkód": "04110229T",
                                    "rendelés(db)": "253"
                                },
                                {
                                    "Termékkód": "04110230T",
                                    "rendelés(db)": "245"
                                },
                                {
                                    "Termékkód": "04110231T",
                                    "rendelés(db)": "270"
                                },
                                {
                                    "Termékkód": "04110232T",
                                    "rendelés(db)": "254"
                                },
                                {
                                    "Termékkód": "04110233T",
                                    "rendelés(db)": "283"
                                },
                                {
                                    "Termékkód": "04110258T",
                                    "rendelés(db)": "255"
                                },
                                {
                                    "Termékkód": "04110273T",
                                    "rendelés(db)": "277"
                                },
                                {
                                    "Termékkód": "04110274T",
                                    "rendelés(db)": "239"
                                },
                                {
                                    "Termékkód": "04110275T",
                                    "rendelés(db)": "253"
                                },
                                {
                                    "Termékkód": "04110276T",
                                    "rendelés(db)": "276"
                                },
                                {
                                    "Termékkód": "04110277T",
                                    "rendelés(db)": "237"
                                },
                                {
                                    "Termékkód": "04110278T",
                                    "rendelés(db)": "262"
                                },
                                {
                                    "Termékkód": "04110279T",
                                    "rendelés(db)": "265"
                                },
                                {
                                    "Termékkód": "04110280T",
                                    "rendelés(db)": "260"
                                },
                                {
                                    "Termékkód": "04110281T",
                                    "rendelés(db)": "270"
                                },
                                {
                                    "Termékkód": "04110282T",
                                    "rendelés(db)": "261"
                                },
                                {
                                    "Termékkód": "04110283T",
                                    "rendelés(db)": "255"
                                },
                                {
                                    "Termékkód": "04110284T",
                                    "rendelés(db)": "266"
                                },
                                {
                                    "Termékkód": "04110362T",
                                    "rendelés(db)": "253"
                                },
                                {
                                    "Termékkód": "05010026T",
                                    "rendelés(db)": "257"
                                },
                                {
                                    "Termékkód": "05010027T",
                                    "rendelés(db)": "253"
                                },
                                {
                                    "Termékkód": "05010306T",
                                    "rendelés(db)": "281"
                                },
                                {
                                    "Termékkód": "05010369T",
                                    "rendelés(db)": "266"
                                },
                                {
                                    "Termékkód": "05010370T",
                                    "rendelés(db)": "279"
                                },
                                {
                                    "Termékkód": "05040310T",
                                    "rendelés(db)": "219"
                                },
                                {
                                    "Termékkód": "05040348T",
                                    "rendelés(db)": "261"
                                },
                                {
                                    "Termékkód": "05040349T",
                                    "rendelés(db)": "219"
                                },
                                {
                                    "Termékkód": "05050045T",
                                    "rendelés(db)": "223"
                                },
                                {
                                    "Termékkód": "05050046T",
                                    "rendelés(db)": "222"
                                },
                                {
                                    "Termékkód": "05050170T",
                                    "rendelés(db)": "249"
                                },
                                {
                                    "Termékkód": "05050346T",
                                    "rendelés(db)": "255"
                                },
                                {
                                    "Termékkód": "05050465T",
                                    "rendelés(db)": "230"
                                },
                                {
                                    "Termékkód": "05080340T",
                                    "rendelés(db)": "277"
                                },
                                {
                                    "Termékkód": "05080341T",
                                    "rendelés(db)": "270"
                                },
                                {
                                    "Termékkód": "05110359T",
                                    "rendelés(db)": "268"
                                },
                                {
                                    "Termékkód": "05110360T",
                                    "rendelés(db)": "263"
                                },
                                {
                                    "Termékkód": "05110361T",
                                    "rendelés(db)": "284"
                                },
                                {
                                    "Termékkód": "05110363T",
                                    "rendelés(db)": "280"
                                },
                                {
                                    "Termékkód": "05110364T",
                                    "rendelés(db)": "264"
                                },
                                {
                                    "Termékkód": "06010036T",
                                    "rendelés(db)": "250"
                                },
                                {
                                    "Termékkód": "06010082T",
                                    "rendelés(db)": "290"
                                },
                                {
                                    "Termékkód": "06010083T",
                                    "rendelés(db)": "283"
                                },
                                {
                                    "Termékkód": "06010084T",
                                    "rendelés(db)": "257"
                                },
                                {
                                    "Termékkód": "06010085T",
                                    "rendelés(db)": "283"
                                },
                                {
                                    "Termékkód": "06010086T",
                                    "rendelés(db)": "242"
                                },
                                {
                                    "Termékkód": "06010111T",
                                    "rendelés(db)": "263"
                                },
                                {
                                    "Termékkód": "06010112T",
                                    "rendelés(db)": "261"
                                },
                                {
                                    "Termékkód": "06010113T",
                                    "rendelés(db)": "253"
                                },
                                {
                                    "Termékkód": "06010114T",
                                    "rendelés(db)": "241"
                                },
                                {
                                    "Termékkód": "06010115T",
                                    "rendelés(db)": "265"
                                },
                                {
                                    "Termékkód": "06010201T",
                                    "rendelés(db)": "264"
                                },
                                {
                                    "Termékkód": "06010202T",
                                    "rendelés(db)": "277"
                                },
                                {
                                    "Termékkód": "06010305T",
                                    "rendelés(db)": "258"
                                },
                                {
                                    "Termékkód": "06010343T",
                                    "rendelés(db)": "275"
                                },
                                {
                                    "Termékkód": "06010365T",
                                    "rendelés(db)": "266"
                                },
                                {
                                    "Termékkód": "06010366T",
                                    "rendelés(db)": "285"
                                },
                                {
                                    "Termékkód": "06010367T",
                                    "rendelés(db)": "255"
                                },
                                {
                                    "Termékkód": "06010368T",
                                    "rendelés(db)": "269"
                                },
                                {
                                    "Termékkód": "06010373T",
                                    "rendelés(db)": "257"
                                },
                                {
                                    "Termékkód": "06010374T",
                                    "rendelés(db)": "242"
                                },
                                {
                                    "Termékkód": "06010375T",
                                    "rendelés(db)": "273"
                                },
                                {
                                    "Termékkód": "06010376T",
                                    "rendelés(db)": "259"
                                },
                                {
                                    "Termékkód": "06010377T",
                                    "rendelés(db)": "223"
                                },
                                {
                                    "Termékkód": "06040087T",
                                    "rendelés(db)": "249"
                                },
                                {
                                    "Termékkód": "06040088T",
                                    "rendelés(db)": "272"
                                },
                                {
                                    "Termékkód": "06040089T",
                                    "rendelés(db)": "241"
                                },
                                {
                                    "Termékkód": "06040172T",
                                    "rendelés(db)": "246"
                                },
                                {
                                    "Termékkód": "06040173T",
                                    "rendelés(db)": "259"
                                },
                                {
                                    "Termékkód": "06040174T",
                                    "rendelés(db)": "233"
                                },
                                {
                                    "Termékkód": "06040175T",
                                    "rendelés(db)": "279"
                                },
                                {
                                    "Termékkód": "06040179T",
                                    "rendelés(db)": "259"
                                },
                                {
                                    "Termékkód": "06040180T",
                                    "rendelés(db)": "247"
                                },
                                {
                                    "Termékkód": "06040181T",
                                    "rendelés(db)": "266"
                                },
                                {
                                    "Termékkód": "06040182T",
                                    "rendelés(db)": "224"
                                },
                                {
                                    "Termékkód": "06040183T",
                                    "rendelés(db)": "297"
                                },
                                {
                                    "Termékkód": "06040184T",
                                    "rendelés(db)": "249"
                                },
                                {
                                    "Termékkód": "06040185T",
                                    "rendelés(db)": "242"
                                },
                                {
                                    "Termékkód": "06040186T",
                                    "rendelés(db)": "267"
                                },
                                {
                                    "Termékkód": "06040212T",
                                    "rendelés(db)": "227"
                                },
                                {
                                    "Termékkód": "06040213T",
                                    "rendelés(db)": "240"
                                },
                                {
                                    "Termékkód": "06040246T",
                                    "rendelés(db)": "252"
                                },
                                {
                                    "Termékkód": "06040247T",
                                    "rendelés(db)": "271"
                                },
                                {
                                    "Termékkód": "06040248T",
                                    "rendelés(db)": "281"
                                },
                                {
                                    "Termékkód": "06040323T",
                                    "rendelés(db)": "268"
                                },
                                {
                                    "Termékkód": "06040324T",
                                    "rendelés(db)": "200"
                                },
                                {
                                    "Termékkód": "06040325T",
                                    "rendelés(db)": "244"
                                },
                                {
                                    "Termékkód": "06040326T",
                                    "rendelés(db)": "279"
                                },
                                {
                                    "Termékkód": "06040327T",
                                    "rendelés(db)": "259"
                                },
                                {
                                    "Termékkód": "06040328T",
                                    "rendelés(db)": "283"
                                },
                                {
                                    "Termékkód": "06040329T",
                                    "rendelés(db)": "275"
                                },
                                {
                                    "Termékkód": "06040330T",
                                    "rendelés(db)": "262"
                                },
                                {
                                    "Termékkód": "06040331T",
                                    "rendelés(db)": "264"
                                },
                                {
                                    "Termékkód": "06040347T",
                                    "rendelés(db)": "252"
                                },
                                {
                                    "Termékkód": "06040350T",
                                    "rendelés(db)": "260"
                                },
                                {
                                    "Termékkód": "06040351T",
                                    "rendelés(db)": "272"
                                },
                                {
                                    "Termékkód": "06040352T",
                                    "rendelés(db)": "253"
                                },
                                {
                                    "Termékkód": "06040353T",
                                    "rendelés(db)": "270"
                                },
                                {
                                    "Termékkód": "06040354T",
                                    "rendelés(db)": "244"
                                },
                                {
                                    "Termékkód": "06040355T",
                                    "rendelés(db)": "241"
                                },
                                {
                                    "Termékkód": "06040356T",
                                    "rendelés(db)": "263"
                                },
                                {
                                    "Termékkód": "06040357T",
                                    "rendelés(db)": "275"
                                },
                                {
                                    "Termékkód": "06040378T",
                                    "rendelés(db)": "247"
                                },
                                {
                                    "Termékkód": "06040379T",
                                    "rendelés(db)": "297"
                                },
                                {
                                    "Termékkód": "06040380T",
                                    "rendelés(db)": "260"
                                },
                                {
                                    "Termékkód": "06040381T",
                                    "rendelés(db)": "253"
                                },
                                {
                                    "Termékkód": "06040382T",
                                    "rendelés(db)": "250"
                                },
                                {
                                    "Termékkód": "06040383T",
                                    "rendelés(db)": "245"
                                },
                                {
                                    "Termékkód": "06040384T",
                                    "rendelés(db)": "232"
                                },
                                {
                                    "Termékkód": "06040385T",
                                    "rendelés(db)": "269"
                                },
                                {
                                    "Termékkód": "06040386T",
                                    "rendelés(db)": "251"
                                },
                                {
                                    "Termékkód": "06040392T",
                                    "rendelés(db)": "264"
                                },
                                {
                                    "Termékkód": "06040393T",
                                    "rendelés(db)": "275"
                                },
                                {
                                    "Termékkód": "06040394T",
                                    "rendelés(db)": "271"
                                },
                                {
                                    "Termékkód": "06040395T",
                                    "rendelés(db)": "245"
                                },
                                {
                                    "Termékkód": "06040396T",
                                    "rendelés(db)": "278"
                                },
                                {
                                    "Termékkód": "06040397T",
                                    "rendelés(db)": "274"
                                },
                                {
                                    "Termékkód": "06040398T",
                                    "rendelés(db)": "271"
                                },
                                {
                                    "Termékkód": "06040399T",
                                    "rendelés(db)": "234"
                                },
                                {
                                    "Termékkód": "06040400T",
                                    "rendelés(db)": "254"
                                },
                                {
                                    "Termékkód": "06040446T",
                                    "rendelés(db)": "256"
                                },
                                {
                                    "Termékkód": "06050249T",
                                    "rendelés(db)": "237"
                                },
                                {
                                    "Termékkód": "06050301T",
                                    "rendelés(db)": "289"
                                },
                                {
                                    "Termékkód": "06050302T",
                                    "rendelés(db)": "277"
                                },
                                {
                                    "Termékkód": "06050303T",
                                    "rendelés(db)": "234"
                                },
                                {
                                    "Termékkód": "06080116T",
                                    "rendelés(db)": "252"
                                },
                                {
                                    "Termékkód": "06080117T",
                                    "rendelés(db)": "270"
                                },
                                {
                                    "Termékkód": "06080118T",
                                    "rendelés(db)": "241"
                                },
                                {
                                    "Termékkód": "06080120T",
                                    "rendelés(db)": "265"
                                },
                                {
                                    "Termékkód": "06080121T",
                                    "rendelés(db)": "253"
                                },
                                {
                                    "Termékkód": "06080122T",
                                    "rendelés(db)": "239"
                                },
                                {
                                    "Termékkód": "06080123T",
                                    "rendelés(db)": "276"
                                },
                                {
                                    "Termékkód": "06080124T",
                                    "rendelés(db)": "267"
                                },
                                {
                                    "Termékkód": "06080125T",
                                    "rendelés(db)": "262"
                                },
                                {
                                    "Termékkód": "06080126T",
                                    "rendelés(db)": "270"
                                },
                                {
                                    "Termékkód": "06080188T",
                                    "rendelés(db)": "265"
                                },
                                {
                                    "Termékkód": "06080189T",
                                    "rendelés(db)": "259"
                                },
                                {
                                    "Termékkód": "06080190T",
                                    "rendelés(db)": "252"
                                },
                                {
                                    "Termékkód": "06080191T",
                                    "rendelés(db)": "255"
                                },
                                {
                                    "Termékkód": "06080192T",
                                    "rendelés(db)": "235"
                                },
                                {
                                    "Termékkód": "06080193T",
                                    "rendelés(db)": "268"
                                },
                                {
                                    "Termékkód": "06080259T",
                                    "rendelés(db)": "245"
                                },
                                {
                                    "Termékkód": "06080332T",
                                    "rendelés(db)": "230"
                                },
                                {
                                    "Termékkód": "06080333T",
                                    "rendelés(db)": "247"
                                },
                                {
                                    "Termékkód": "06080334T",
                                    "rendelés(db)": "278"
                                },
                                {
                                    "Termékkód": "06080335T",
                                    "rendelés(db)": "263"
                                },
                                {
                                    "Termékkód": "06080336T",
                                    "rendelés(db)": "239"
                                },
                                {
                                    "Termékkód": "06080337T",
                                    "rendelés(db)": "260"
                                },
                                {
                                    "Termékkód": "06080338T",
                                    "rendelés(db)": "270"
                                },
                                {
                                    "Termékkód": "06080339T",
                                    "rendelés(db)": "245"
                                },
                                {
                                    "Termékkód": "06080407T",
                                    "rendelés(db)": "256"
                                },
                                {
                                    "Termékkód": "06080408T",
                                    "rendelés(db)": "250"
                                },
                                {
                                    "Termékkód": "06080409T",
                                    "rendelés(db)": "249"
                                },
                                {
                                    "Termékkód": "06080410T",
                                    "rendelés(db)": "241"
                                },
                                {
                                    "Termékkód": "06080411T",
                                    "rendelés(db)": "258"
                                },
                                {
                                    "Termékkód": "06080412T",
                                    "rendelés(db)": "254"
                                },
                                {
                                    "Termékkód": "06080413T",
                                    "rendelés(db)": "253"
                                },
                                {
                                    "Termékkód": "06080414T",
                                    "rendelés(db)": "250"
                                },
                                {
                                    "Termékkód": "06080415T",
                                    "rendelés(db)": "246"
                                },
                                {
                                    "Termékkód": "06080416T",
                                    "rendelés(db)": "270"
                                },
                                {
                                    "Termékkód": "06080417T",
                                    "rendelés(db)": "258"
                                },
                                {
                                    "Termékkód": "06080422T",
                                    "rendelés(db)": "271"
                                },
                                {
                                    "Termékkód": "06080423T",
                                    "rendelés(db)": "249"
                                },
                                {
                                    "Termékkód": "06080424T",
                                    "rendelés(db)": "233"
                                },
                                {
                                    "Termékkód": "06080425T",
                                    "rendelés(db)": "268"
                                },
                                {
                                    "Termékkód": "06080426T",
                                    "rendelés(db)": "265"
                                },
                                {
                                    "Termékkód": "06080427T",
                                    "rendelés(db)": "265"
                                },
                                {
                                    "Termékkód": "06080428T",
                                    "rendelés(db)": "265"
                                },
                                {
                                    "Termékkód": "06080429T",
                                    "rendelés(db)": "262"
                                },
                                {
                                    "Termékkód": "06080430T",
                                    "rendelés(db)": "249"
                                },
                                {
                                    "Termékkód": "06080440T",
                                    "rendelés(db)": "244"
                                },
                                {
                                    "Termékkód": "06080441T",
                                    "rendelés(db)": "267"
                                },
                                {
                                    "Termékkód": "07010136T",
                                    "rendelés(db)": "274"
                                },
                                {
                                    "Termékkód": "07010137T",
                                    "rendelés(db)": "258"
                                },
                                {
                                    "Termékkód": "07010138T",
                                    "rendelés(db)": "260"
                                },
                                {
                                    "Termékkód": "07010139T",
                                    "rendelés(db)": "271"
                                },
                                {
                                    "Termékkód": "07010140T",
                                    "rendelés(db)": "243"
                                },
                                {
                                    "Termékkód": "07010141T",
                                    "rendelés(db)": "257"
                                },
                                {
                                    "Termékkód": "07010142T",
                                    "rendelés(db)": "256"
                                },
                                {
                                    "Termékkód": "07010143T",
                                    "rendelés(db)": "222"
                                },
                                {
                                    "Termékkód": "07010144T",
                                    "rendelés(db)": "252"
                                },
                                {
                                    "Termékkód": "07010244T",
                                    "rendelés(db)": "264"
                                },
                                {
                                    "Termékkód": "07010371T",
                                    "rendelés(db)": "252"
                                },
                                {
                                    "Termékkód": "07010372T",
                                    "rendelés(db)": "241"
                                },
                                {
                                    "Termékkód": "07030103T",
                                    "rendelés(db)": "263"
                                },
                                {
                                    "Termékkód": "07030104T",
                                    "rendelés(db)": "244"
                                },
                                {
                                    "Termékkód": "07030105T",
                                    "rendelés(db)": "231"
                                },
                                {
                                    "Termékkód": "07030106T",
                                    "rendelés(db)": "262"
                                },
                                {
                                    "Termékkód": "07030107T",
                                    "rendelés(db)": "273"
                                },
                                {
                                    "Termékkód": "07030108T",
                                    "rendelés(db)": "239"
                                },
                                {
                                    "Termékkód": "07040047T",
                                    "rendelés(db)": "233"
                                },
                                {
                                    "Termékkód": "07040048T",
                                    "rendelés(db)": "250"
                                },
                                {
                                    "Termékkód": "07040049T",
                                    "rendelés(db)": "240"
                                },
                                {
                                    "Termékkód": "07040050T",
                                    "rendelés(db)": "257"
                                },
                                {
                                    "Termékkód": "07040051T",
                                    "rendelés(db)": "253"
                                },
                                {
                                    "Termékkód": "07040052T",
                                    "rendelés(db)": "247"
                                },
                                {
                                    "Termékkód": "07040053T",
                                    "rendelés(db)": "281"
                                },
                                {
                                    "Termékkód": "07040054T",
                                    "rendelés(db)": "280"
                                },
                                {
                                    "Termékkód": "07040055T",
                                    "rendelés(db)": "234"
                                },
                                {
                                    "Termékkód": "07040056T",
                                    "rendelés(db)": "265"
                                },
                                {
                                    "Termékkód": "07040057T",
                                    "rendelés(db)": "265"
                                },
                                {
                                    "Termékkód": "07040058T",
                                    "rendelés(db)": "274"
                                },
                                {
                                    "Termékkód": "07040059T",
                                    "rendelés(db)": "242"
                                },
                                {
                                    "Termékkód": "07040060T",
                                    "rendelés(db)": "257"
                                },
                                {
                                    "Termékkód": "07040061T",
                                    "rendelés(db)": "260"
                                },
                                {
                                    "Termékkód": "07040097T",
                                    "rendelés(db)": "256"
                                },
                                {
                                    "Termékkód": "07040098T",
                                    "rendelés(db)": "269"
                                },
                                {
                                    "Termékkód": "07040099T",
                                    "rendelés(db)": "255"
                                },
                                {
                                    "Termékkód": "07040100T",
                                    "rendelés(db)": "264"
                                },
                                {
                                    "Termékkód": "07040101T",
                                    "rendelés(db)": "240"
                                },
                                {
                                    "Termékkód": "07040102T",
                                    "rendelés(db)": "291"
                                },
                                {
                                    "Termékkód": "07040127T",
                                    "rendelés(db)": "248"
                                },
                                {
                                    "Termékkód": "07040128T",
                                    "rendelés(db)": "288"
                                },
                                {
                                    "Termékkód": "07040129T",
                                    "rendelés(db)": "274"
                                },
                                {
                                    "Termékkód": "07040130T",
                                    "rendelés(db)": "265"
                                },
                                {
                                    "Termékkód": "07040131T",
                                    "rendelés(db)": "268"
                                },
                                {
                                    "Termékkód": "07040132T",
                                    "rendelés(db)": "263"
                                },
                                {
                                    "Termékkód": "07040133T",
                                    "rendelés(db)": "268"
                                },
                                {
                                    "Termékkód": "07040134T",
                                    "rendelés(db)": "248"
                                },
                                {
                                    "Termékkód": "07040135T",
                                    "rendelés(db)": "248"
                                },
                                {
                                    "Termékkód": "07040165T",
                                    "rendelés(db)": "263"
                                },
                                {
                                    "Termékkód": "07040166T",
                                    "rendelés(db)": "249"
                                },
                                {
                                    "Termékkód": "07040167T",
                                    "rendelés(db)": "253"
                                },
                                {
                                    "Termékkód": "07040168T",
                                    "rendelés(db)": "287"
                                },
                                {
                                    "Termékkód": "07040169T",
                                    "rendelés(db)": "257"
                                },
                                {
                                    "Termékkód": "07040215T",
                                    "rendelés(db)": "251"
                                },
                                {
                                    "Termékkód": "07040216T",
                                    "rendelés(db)": "249"
                                },
                                {
                                    "Termékkód": "07040217T",
                                    "rendelés(db)": "266"
                                },
                                {
                                    "Termékkód": "07040218T",
                                    "rendelés(db)": "244"
                                },
                                {
                                    "Termékkód": "07040219T",
                                    "rendelés(db)": "241"
                                },
                                {
                                    "Termékkód": "07040257T",
                                    "rendelés(db)": "272"
                                },
                                {
                                    "Termékkód": "07040388T",
                                    "rendelés(db)": "248"
                                },
                                {
                                    "Termékkód": "07040389T",
                                    "rendelés(db)": "230"
                                },
                                {
                                    "Termékkód": "07040390T",
                                    "rendelés(db)": "256"
                                },
                                {
                                    "Termékkód": "07040391T",
                                    "rendelés(db)": "276"
                                },
                                {
                                    "Termékkód": "07050462T",
                                    "rendelés(db)": "253"
                                },
                                {
                                    "Termékkód": "07050463T",
                                    "rendelés(db)": "254"
                                },
                                {
                                    "Termékkód": "07050464T",
                                    "rendelés(db)": "248"
                                },
                                {
                                    "Termékkód": "07080062T",
                                    "rendelés(db)": "245"
                                },
                                {
                                    "Termékkód": "07080063T",
                                    "rendelés(db)": "246"
                                },
                                {
                                    "Termékkód": "07080064T",
                                    "rendelés(db)": "255"
                                },
                                {
                                    "Termékkód": "07080065T",
                                    "rendelés(db)": "275"
                                },
                                {
                                    "Termékkód": "07080150T",
                                    "rendelés(db)": "255"
                                },
                                {
                                    "Termékkód": "07080151T",
                                    "rendelés(db)": "249"
                                },
                                {
                                    "Termékkód": "07080152T",
                                    "rendelés(db)": "258"
                                },
                                {
                                    "Termékkód": "07080153T",
                                    "rendelés(db)": "260"
                                },
                                {
                                    "Termékkód": "07080154T",
                                    "rendelés(db)": "251"
                                },
                                {
                                    "Termékkód": "07080155T",
                                    "rendelés(db)": "231"
                                },
                                {
                                    "Termékkód": "07080156T",
                                    "rendelés(db)": "268"
                                },
                                {
                                    "Termékkód": "07080157T",
                                    "rendelés(db)": "287"
                                },
                                {
                                    "Termékkód": "07080158T",
                                    "rendelés(db)": "289"
                                },
                                {
                                    "Termékkód": "07080159T",
                                    "rendelés(db)": "254"
                                },
                                {
                                    "Termékkód": "07080160T",
                                    "rendelés(db)": "281"
                                },
                                {
                                    "Termékkód": "07080161T",
                                    "rendelés(db)": "271"
                                },
                                {
                                    "Termékkód": "07080162T",
                                    "rendelés(db)": "275"
                                },
                                {
                                    "Termékkód": "07080163T",
                                    "rendelés(db)": "270"
                                },
                                {
                                    "Termékkód": "07080164T",
                                    "rendelés(db)": "276"
                                },
                                {
                                    "Termékkód": "07080311T",
                                    "rendelés(db)": "258"
                                },
                                {
                                    "Termékkód": "07080312T",
                                    "rendelés(db)": "254"
                                },
                                {
                                    "Termékkód": "07080313T",
                                    "rendelés(db)": "249"
                                },
                                {
                                    "Termékkód": "07080314T",
                                    "rendelés(db)": "248"
                                },
                                {
                                    "Termékkód": "07080315T",
                                    "rendelés(db)": "255"
                                },
                                {
                                    "Termékkód": "07080316T",
                                    "rendelés(db)": "279"
                                },
                                {
                                    "Termékkód": "07080317T",
                                    "rendelés(db)": "255"
                                },
                                {
                                    "Termékkód": "07080318T",
                                    "rendelés(db)": "267"
                                },
                                {
                                    "Termékkód": "07080319T",
                                    "rendelés(db)": "229"
                                },
                                {
                                    "Termékkód": "07080418T",
                                    "rendelés(db)": "244"
                                },
                                {
                                    "Termékkód": "07080419T",
                                    "rendelés(db)": "266"
                                },
                                {
                                    "Termékkód": "07080420T",
                                    "rendelés(db)": "240"
                                },
                                {
                                    "Termékkód": "07080421T",
                                    "rendelés(db)": "253"
                                },
                                {
                                    "Termékkód": "07080466T",
                                    "rendelés(db)": "269"
                                },
                                {
                                    "Termékkód": "07080467T",
                                    "rendelés(db)": "232"
                                },
                                {
                                    "Termékkód": "07080468T",
                                    "rendelés(db)": "250"
                                },
                                {
                                    "Termékkód": "07080469T",
                                    "rendelés(db)": "275"
                                },
                                {
                                    "Termékkód": "07080470T",
                                    "rendelés(db)": "258"
                                },
                                {
                                    "Termékkód": "07080471T",
                                    "rendelés(db)": "236"
                                },
                                {
                                    "Termékkód": "08070472T",
                                    "rendelés(db)": "271"
                                },
                                {
                                    "Termékkód": "08070473T",
                                    "rendelés(db)": "240"
                                },
                                {
                                    "Termékkód": "08070474T",
                                    "rendelés(db)": "261"
                                },
                                {
                                    "Termékkód": "08070475T",
                                    "rendelés(db)": "225"
                                },
                                {
                                    "Termékkód": "08070476T",
                                    "rendelés(db)": "257"
                                },
                                {
                                    "Termékkód": "08070477T",
                                    "rendelés(db)": "272"
                                },
                                {
                                    "Termékkód": "08070478T",
                                    "rendelés(db)": "298"
                                },
                                {
                                    "Termékkód": "08070479T",
                                    "rendelés(db)": "265"
                                },
                                {
                                    "Termékkód": "08070480T",
                                    "rendelés(db)": "262"
                                },
                                {
                                    "Termékkód": "08070481T",
                                    "rendelés(db)": "263"
                                },
                                {
                                    "Termékkód": "08070482T",
                                    "rendelés(db)": "252"
                                },
                                {
                                    "Termékkód": "08070483T",
                                    "rendelés(db)": "243"
                                },
                                {
                                    "Termékkód": "08070484T",
                                    "rendelés(db)": "260"
                                },
                                {
                                    "Termékkód": "08070485T",
                                    "rendelés(db)": "244"
                                },
                                {
                                    "Termékkód": "08070486T",
                                    "rendelés(db)": "226"
                                },
                                {
                                    "Termékkód": "08070487T",
                                    "rendelés(db)": "233"
                                },
                                {
                                    "Termékkód": "08070488T",
                                    "rendelés(db)": "257"
                                },
                                {
                                    "Termékkód": "08070489T",
                                    "rendelés(db)": "273"
                                },
                                {
                                    "Termékkód": "08070490T",
                                    "rendelés(db)": "289"
                                },
                                {
                                    "Termékkód": "08070491T",
                                    "rendelés(db)": "283"
                                },
                                {
                                    "Termékkód": "08070492T",
                                    "rendelés(db)": "275"
                                },
                                {
                                    "Termékkód": "08070493T",
                                    "rendelés(db)": "289"
                                },
                                {
                                    "Termékkód": "08070494T",
                                    "rendelés(db)": "240"
                                },
                                {
                                    "Termékkód": "08070495T",
                                    "rendelés(db)": "277"
                                },
                                {
                                    "Termékkód": "F001-KB101",
                                    "rendelés(db)": "257"
                                },
                                {
                                    "Termékkód": "F007-NA201",
                                    "rendelés(db)": "955"
                                },
                                {
                                    "Termékkód": "F013-NA207",
                                    "rendelés(db)": "915"
                                },
                                {
                                    "Termékkód": "F021-IN215",
                                    "rendelés(db)": "919"
                                },
                                {
                                    "Termékkód": "G001-KB101",
                                    "rendelés(db)": "873"
                                },
                                {
                                    "Termékkód": "G013-NA201",
                                    "rendelés(db)": "991"
                                },
                                {
                                    "Termékkód": "G019-NA207",
                                    "rendelés(db)": "916"
                                },
                                {
                                    "Termékkód": "G023-FE301",
                                    "rendelés(db)": "944"
                                },
                                {
                                    "Termékkód": "G029-FE307",
                                    "rendelés(db)": "985"
                                },
                                {
                                    "Termékkód": "G038-FE316",
                                    "rendelés(db)": "957"
                                },
                                {
                                    "Termékkód": "G041-AL211",
                                    "rendelés(db)": "916"
                                },
                                {
                                    "Termékkód": "G048-PO218",
                                    "rendelés(db)": "957"
                                },
                                {
                                    "Termékkód": "G064-CI401",
                                    "rendelés(db)": "936"
                                },
                                {
                                    "Termékkód": "G073-CI410",
                                    "rendelés(db)": "967"
                                },
                                {
                                    "Termékkód": "G082-CI419",
                                    "rendelés(db)": "943"
                                },
                                {
                                    "Termékkód": "L001-KB101",
                                    "rendelés(db)": "940"
                                },
                                {
                                    "Termékkód": "L013-NA201",
                                    "rendelés(db)": "953"
                                },
                                {
                                    "Termékkód": "L019-NA207",
                                    "rendelés(db)": "915"
                                },
                                {
                                    "Termékkód": "L023-FE301",
                                    "rendelés(db)": "994"
                                },
                                {
                                    "Termékkód": "L029-FE307",
                                    "rendelés(db)": "952"
                                },
                                {
                                    "Termékkód": "L033-FE311",
                                    "rendelés(db)": "934"
                                },
                                {
                                    "Termékkód": "L041-AL211",
                                    "rendelés(db)": "915"
                                },
                                {
                                    "Termékkód": "L048-PO218",
                                    "rendelés(db)": "947"
                                },
                                {
                                    "Termékkód": "L064-CI401",
                                    "rendelés(db)": "945"
                                },
                                {
                                    "Termékkód": "L073-CI410",
                                    "rendelés(db)": "943"
                                },
                                {
                                    "Termékkód": "L082-CI419",
                                    "rendelés(db)": "902"
                                },
                                {
                                    "Termékkód": "N001-KB101",
                                    "rendelés(db)": "927"
                                },
                                {
                                    "Termékkód": "N008-NA201",
                                    "rendelés(db)": "954"
                                },
                                {
                                    "Termékkód": "N019-FE301",
                                    "rendelés(db)": "966"
                                },
                                {
                                    "Termékkód": "N029-AL212",
                                    "rendelés(db)": "966"
                                },
                                {
                                    "Termékkód": "N035-AL218",
                                    "rendelés(db)": "914"
                                },
                                {
                                    "Termékkód": "N039-AL222",
                                    "rendelés(db)": "974"
                                },
                                {
                                    "Termékkód": "U001-KI501",
                                    "rendelés(db)": "903"
                                }
                            ]
                        },
                        "text/html": [
                            "<table>",
                            "<tr><th>Termékkód</th><th>rendelés(db)</th></tr>",
                            "<tr><td>01010001T</td><td>264</td></tr>",
                            "<tr><td>01010110T</td><td>270</td></tr>",
                            "<tr><td>01010304T</td><td>245</td></tr>",
                            "<tr><td>01020299T</td><td>247</td></tr>",
                            "<tr><td>01020300T</td><td>254</td></tr>",
                            "<tr><td>01030091T</td><td>272</td></tr>",
                            "<tr><td>01030092T</td><td>273</td></tr>",
                            "<tr><td>01040307T</td><td>244</td></tr>",
                            "<tr><td>01040502T</td><td>267</td></tr>",
                            "<tr><td>01080093T</td><td>279</td></tr>",
                            "<tr><td>01080512T</td><td>263</td></tr>",
                            "<tr><td>01080513T</td><td>293</td></tr>",
                            "<tr><td>01090498T</td><td>272</td></tr>",
                            "<tr><td>01090499T</td><td>261</td></tr>",
                            "<tr><td>01090500T</td><td>234</td></tr>",
                            "<tr><td>01090501T</td><td>220</td></tr>",
                            "<tr><td>01090515T</td><td>252</td></tr>",
                            "<tr><td>01090516T</td><td>251</td></tr>",
                            "<tr><td>01090517T</td><td>247</td></tr>",
                            "<tr><td>01100070T</td><td>277</td></tr>",
                            "<tr><td>01100071T</td><td>246</td></tr>",
                            "<tr><td>01100072T</td><td>265</td></tr>",
                            "<tr><td>01100094T</td><td>271</td></tr>",
                            "<tr><td>01100095T</td><td>244</td></tr>",
                            "<tr><td>01100096T</td><td>281</td></tr>",
                            "<tr><td>01100496T</td><td>253</td></tr>",
                            "<tr><td>01100497T</td><td>268</td></tr>",
                            "<tr><td>01100503T</td><td>297</td></tr>",
                            "<tr><td>01100504T</td><td>246</td></tr>",
                            "<tr><td>01100505T</td><td>256</td></tr>",
                            "<tr><td>01100509T</td><td>260</td></tr>",
                            "<tr><td>01100510T</td><td>233</td></tr>",
                            "<tr><td>02010028T</td><td>264</td></tr>",
                            "<tr><td>02020029T</td><td>259</td></tr>",
                            "<tr><td>02020032T</td><td>278</td></tr>",
                            "<tr><td>02020033T</td><td>266</td></tr>",
                            "<tr><td>02020037T</td><td>273</td></tr>",
                            "<tr><td>02020245T</td><td>252</td></tr>",
                            "<tr><td>02020444T</td><td>265</td></tr>",
                            "<tr><td>02030040T</td><td>265</td></tr>",
                            "<tr><td>02030041T</td><td>261</td></tr>",
                            "<tr><td>02030042T</td><td>245</td></tr>",
                            "<tr><td>02030043T</td><td>244</td></tr>",
                            "<tr><td>02030044T</td><td>249</td></tr>",
                            "<tr><td>02040002T</td><td>255</td></tr>",
                            "<tr><td>02040025T</td><td>264</td></tr>",
                            "<tr><td>02040145T</td><td>263</td></tr>",
                            "<tr><td>02040146T</td><td>257</td></tr>",
                            "<tr><td>02040147T</td><td>252</td></tr>",
                            "<tr><td>02040148T</td><td>255</td></tr>",
                            "<tr><td>02040149T</td><td>250</td></tr>",
                            "<tr><td>02040176T</td><td>261</td></tr>",
                            "<tr><td>02040177T</td><td>256</td></tr>",
                            "<tr><td>02040178T</td><td>249</td></tr>",
                            "<tr><td>02040194T</td><td>255</td></tr>",
                            "<tr><td>02040195T</td><td>273</td></tr>",
                            "<tr><td>02040196T</td><td>260</td></tr>",
                            "<tr><td>02040197T</td><td>293</td></tr>",
                            "<tr><td>02040198T</td><td>246</td></tr>",
                            "<tr><td>02040199T</td><td>240</td></tr>",
                            "<tr><td>02040200T</td><td>261</td></tr>",
                            "<tr><td>02040206T</td><td>270</td></tr>",
                            "<tr><td>02040207T</td><td>253</td></tr>",
                            "<tr><td>02040208T</td><td>254</td></tr>",
                            "<tr><td>02040209T</td><td>255</td></tr>",
                            "<tr><td>02040210T</td><td>252</td></tr>",
                            "<tr><td>02040211T</td><td>263</td></tr>",
                            "<tr><td>02040214T</td><td>269</td></tr>",
                            "<tr><td>02040290T</td><td>278</td></tr>",
                            "<tr><td>02040291T</td><td>251</td></tr>",
                            "<tr><td>02040292T</td><td>250</td></tr>",
                            "<tr><td>02040293T</td><td>266</td></tr>",
                            "<tr><td>02040294T</td><td>279</td></tr>",
                            "<tr><td>02040295T</td><td>256</td></tr>",
                            "<tr><td>02040296T</td><td>220</td></tr>",
                            "<tr><td>02040297T</td><td>230</td></tr>",
                            "<tr><td>02040298T</td><td>258</td></tr>",
                            "<tr><td>02040308T</td><td>264</td></tr>",
                            "<tr><td>02040309T</td><td>252</td></tr>",
                            "<tr><td>02040401T</td><td>262</td></tr>",
                            "<tr><td>02040402T</td><td>248</td></tr>",
                            "<tr><td>02040403T</td><td>258</td></tr>",
                            "<tr><td>02040404T</td><td>254</td></tr>",
                            "<tr><td>02040405T</td><td>219</td></tr>",
                            "<tr><td>02040406T</td><td>260</td></tr>",
                            "<tr><td>02040506T</td><td>256</td></tr>",
                            "<tr><td>02040507T</td><td>263</td></tr>",
                            "<tr><td>02040508T</td><td>239</td></tr>",
                            "<tr><td>02050460T</td><td>265</td></tr>",
                            "<tr><td>02050461T</td><td>249</td></tr>",
                            "<tr><td>02060034T</td><td>254</td></tr>",
                            "<tr><td>02060038T</td><td>249</td></tr>",
                            "<tr><td>02060039T</td><td>273</td></tr>",
                            "<tr><td>02060447T</td><td>273</td></tr>",
                            "<tr><td>02060448T</td><td>253</td></tr>",
                            "<tr><td>02080069T</td><td>258</td></tr>",
                            "<tr><td>02080081T</td><td>275</td></tr>",
                            "<tr><td>02080109T</td><td>266</td></tr>",
                            "<tr><td>02080226T</td><td>273</td></tr>",
                            "<tr><td>02080431T</td><td>230</td></tr>",
                            "<tr><td>02080432T</td><td>255</td></tr>",
                            "<tr><td>02080433T</td><td>243</td></tr>",
                            "<tr><td>02080434T</td><td>236</td></tr>",
                            "<tr><td>02080435T</td><td>254</td></tr>",
                            "<tr><td>02080436T</td><td>260</td></tr>",
                            "<tr><td>02080449T</td><td>257</td></tr>",
                            "<tr><td>02080450T</td><td>234</td></tr>",
                            "<tr><td>02080451T</td><td>259</td></tr>",
                            "<tr><td>02080452T</td><td>248</td></tr>",
                            "<tr><td>02080453T</td><td>279</td></tr>",
                            "<tr><td>02080454T</td><td>241</td></tr>",
                            "<tr><td>02080455T</td><td>254</td></tr>",
                            "<tr><td>02080456T</td><td>254</td></tr>",
                            "<tr><td>02080511T</td><td>250</td></tr>",
                            "<tr><td>02080514T</td><td>249</td></tr>",
                            "<tr><td>03010342T</td><td>270</td></tr>",
                            "<tr><td>03010344T</td><td>269</td></tr>",
                            "<tr><td>03010345T</td><td>259</td></tr>",
                            "<tr><td>03050076T</td><td>249</td></tr>",
                            "<tr><td>03050077T</td><td>263</td></tr>",
                            "<tr><td>03050078T</td><td>222</td></tr>",
                            "<tr><td>03050079T</td><td>239</td></tr>",
                            "<tr><td>03050080T</td><td>282</td></tr>",
                            "<tr><td>03050457T</td><td>244</td></tr>",
                            "<tr><td>03050458T</td><td>239</td></tr>",
                            "<tr><td>03050459T</td><td>276</td></tr>",
                            "<tr><td>03080003T</td><td>272</td></tr>",
                            "<tr><td>03080004T</td><td>257</td></tr>",
                            "<tr><td>03080005T</td><td>225</td></tr>",
                            "<tr><td>03080006T</td><td>254</td></tr>",
                            "<tr><td>03080007T</td><td>242</td></tr>",
                            "<tr><td>03080008T</td><td>244</td></tr>",
                            "<tr><td>03080009T</td><td>277</td></tr>",
                            "<tr><td>03080010T</td><td>227</td></tr>",
                            "<tr><td>03080011T</td><td>268</td></tr>",
                            "<tr><td>03080012T</td><td>267</td></tr>",
                            "<tr><td>03080013T</td><td>268</td></tr>",
                            "<tr><td>03080014T</td><td>250</td></tr>",
                            "<tr><td>03080015T</td><td>270</td></tr>",
                            "<tr><td>03080016T</td><td>258</td></tr>",
                            "<tr><td>03080017T</td><td>229</td></tr>",
                            "<tr><td>03080018T</td><td>261</td></tr>",
                            "<tr><td>03080019T</td><td>255</td></tr>",
                            "<tr><td>03080020T</td><td>248</td></tr>",
                            "<tr><td>03080021T</td><td>244</td></tr>",
                            "<tr><td>03080030T</td><td>253</td></tr>",
                            "<tr><td>03080031T</td><td>260</td></tr>",
                            "<tr><td>03080437T</td><td>291</td></tr>",
                            "<tr><td>03080438T</td><td>253</td></tr>",
                            "<tr><td>03080439T</td><td>235</td></tr>",
                            "<tr><td>04020445T</td><td>253</td></tr>",
                            "<tr><td>04030234T</td><td>263</td></tr>",
                            "<tr><td>04030235T</td><td>264</td></tr>",
                            "<tr><td>04030236T</td><td>262</td></tr>",
                            "<tr><td>04030237T</td><td>283</td></tr>",
                            "<tr><td>04030238T</td><td>257</td></tr>",
                            "<tr><td>04030239T</td><td>270</td></tr>",
                            "<tr><td>04030240T</td><td>285</td></tr>",
                            "<tr><td>04030241T</td><td>249</td></tr>",
                            "<tr><td>04030242T</td><td>241</td></tr>",
                            "<tr><td>04030243T</td><td>259</td></tr>",
                            "<tr><td>04030260T</td><td>251</td></tr>",
                            "<tr><td>04030261T</td><td>269</td></tr>",
                            "<tr><td>04030262T</td><td>255</td></tr>",
                            "<tr><td>04030263T</td><td>247</td></tr>",
                            "<tr><td>04030264T</td><td>246</td></tr>",
                            "<tr><td>04030265T</td><td>272</td></tr>",
                            "<tr><td>04030266T</td><td>257</td></tr>",
                            "<tr><td>04030285T</td><td>239</td></tr>",
                            "<tr><td>04030286T</td><td>277</td></tr>",
                            "<tr><td>04030287T</td><td>291</td></tr>",
                            "<tr><td>04030288T</td><td>266</td></tr>",
                            "<tr><td>04030289T</td><td>243</td></tr>",
                            "<tr><td>04040090T</td><td>261</td></tr>",
                            "<tr><td>04040387T</td><td>242</td></tr>",
                            "<tr><td>04050022T</td><td>260</td></tr>",
                            "<tr><td>04050023T</td><td>276</td></tr>",
                            "<tr><td>04050024T</td><td>229</td></tr>",
                            "<tr><td>04050035T</td><td>270</td></tr>",
                            "<tr><td>04050073T</td><td>270</td></tr>",
                            "<tr><td>04050074T</td><td>253</td></tr>",
                            "<tr><td>04050075T</td><td>254</td></tr>",
                            "<tr><td>04050171T</td><td>250</td></tr>",
                            "<tr><td>04050187T</td><td>260</td></tr>",
                            "<tr><td>04050203T</td><td>249</td></tr>",
                            "<tr><td>04050204T</td><td>241</td></tr>",
                            "<tr><td>04050220T</td><td>247</td></tr>",
                            "<tr><td>04050221T</td><td>284</td></tr>",
                            "<tr><td>04050222T</td><td>268</td></tr>",
                            "<tr><td>04050223T</td><td>284</td></tr>",
                            "<tr><td>04050224T</td><td>277</td></tr>",
                            "<tr><td>04050225T</td><td>259</td></tr>",
                            "<tr><td>04050250T</td><td>250</td></tr>",
                            "<tr><td>04050251T</td><td>271</td></tr>",
                            "<tr><td>04050252T</td><td>272</td></tr>",
                            "<tr><td>04050253T</td><td>269</td></tr>",
                            "<tr><td>04050254T</td><td>278</td></tr>",
                            "<tr><td>04050255T</td><td>263</td></tr>",
                            "<tr><td>04050256T</td><td>245</td></tr>",
                            "<tr><td>04050267T</td><td>284</td></tr>",
                            "<tr><td>04050268T</td><td>265</td></tr>",
                            "<tr><td>04050269T</td><td>267</td></tr>",
                            "<tr><td>04050320T</td><td>277</td></tr>",
                            "<tr><td>04050321T</td><td>224</td></tr>",
                            "<tr><td>04050322T</td><td>253</td></tr>",
                            "<tr><td>04050358T</td><td>266</td></tr>",
                            "<tr><td>04080270T</td><td>268</td></tr>",
                            "<tr><td>04080271T</td><td>256</td></tr>",
                            "<tr><td>04080272T</td><td>271</td></tr>",
                            "<tr><td>04080442T</td><td>255</td></tr>",
                            "<tr><td>04080443T</td><td>264</td></tr>",
                            "<tr><td>04110066T</td><td>225</td></tr>",
                            "<tr><td>04110067T</td><td>280</td></tr>",
                            "<tr><td>04110068T</td><td>250</td></tr>",
                            "<tr><td>04110227T</td><td>271</td></tr>",
                            "<tr><td>04110228T</td><td>229</td></tr>",
                            "<tr><td>04110229T</td><td>253</td></tr>",
                            "<tr><td>04110230T</td><td>245</td></tr>",
                            "<tr><td>04110231T</td><td>270</td></tr>",
                            "<tr><td>04110232T</td><td>254</td></tr>",
                            "<tr><td>04110233T</td><td>283</td></tr>",
                            "<tr><td>04110258T</td><td>255</td></tr>",
                            "<tr><td>04110273T</td><td>277</td></tr>",
                            "<tr><td>04110274T</td><td>239</td></tr>",
                            "<tr><td>04110275T</td><td>253</td></tr>",
                            "<tr><td>04110276T</td><td>276</td></tr>",
                            "<tr><td>04110277T</td><td>237</td></tr>",
                            "<tr><td>04110278T</td><td>262</td></tr>",
                            "<tr><td>04110279T</td><td>265</td></tr>",
                            "<tr><td>04110280T</td><td>260</td></tr>",
                            "<tr><td>04110281T</td><td>270</td></tr>",
                            "<tr><td>04110282T</td><td>261</td></tr>",
                            "<tr><td>04110283T</td><td>255</td></tr>",
                            "<tr><td>04110284T</td><td>266</td></tr>",
                            "<tr><td>04110362T</td><td>253</td></tr>",
                            "<tr><td>05010026T</td><td>257</td></tr>",
                            "<tr><td>05010027T</td><td>253</td></tr>",
                            "<tr><td>05010306T</td><td>281</td></tr>",
                            "<tr><td>05010369T</td><td>266</td></tr>",
                            "<tr><td>05010370T</td><td>279</td></tr>",
                            "<tr><td>05040310T</td><td>219</td></tr>",
                            "<tr><td>05040348T</td><td>261</td></tr>",
                            "<tr><td>05040349T</td><td>219</td></tr>",
                            "<tr><td>05050045T</td><td>223</td></tr>",
                            "<tr><td>05050046T</td><td>222</td></tr>",
                            "<tr><td>05050170T</td><td>249</td></tr>",
                            "<tr><td>05050346T</td><td>255</td></tr>",
                            "<tr><td>05050465T</td><td>230</td></tr>",
                            "<tr><td>05080340T</td><td>277</td></tr>",
                            "<tr><td>05080341T</td><td>270</td></tr>",
                            "<tr><td>05110359T</td><td>268</td></tr>",
                            "<tr><td>05110360T</td><td>263</td></tr>",
                            "<tr><td>05110361T</td><td>284</td></tr>",
                            "<tr><td>05110363T</td><td>280</td></tr>",
                            "<tr><td>05110364T</td><td>264</td></tr>",
                            "<tr><td>06010036T</td><td>250</td></tr>",
                            "<tr><td>06010082T</td><td>290</td></tr>",
                            "<tr><td>06010083T</td><td>283</td></tr>",
                            "<tr><td>06010084T</td><td>257</td></tr>",
                            "<tr><td>06010085T</td><td>283</td></tr>",
                            "<tr><td>06010086T</td><td>242</td></tr>",
                            "<tr><td>06010111T</td><td>263</td></tr>",
                            "<tr><td>06010112T</td><td>261</td></tr>",
                            "<tr><td>06010113T</td><td>253</td></tr>",
                            "<tr><td>06010114T</td><td>241</td></tr>",
                            "<tr><td>06010115T</td><td>265</td></tr>",
                            "<tr><td>06010201T</td><td>264</td></tr>",
                            "<tr><td>06010202T</td><td>277</td></tr>",
                            "<tr><td>06010305T</td><td>258</td></tr>",
                            "<tr><td>06010343T</td><td>275</td></tr>",
                            "<tr><td>06010365T</td><td>266</td></tr>",
                            "<tr><td>06010366T</td><td>285</td></tr>",
                            "<tr><td>06010367T</td><td>255</td></tr>",
                            "<tr><td>06010368T</td><td>269</td></tr>",
                            "<tr><td>06010373T</td><td>257</td></tr>",
                            "<tr><td>06010374T</td><td>242</td></tr>",
                            "<tr><td>06010375T</td><td>273</td></tr>",
                            "<tr><td>06010376T</td><td>259</td></tr>",
                            "<tr><td>06010377T</td><td>223</td></tr>",
                            "<tr><td>06040087T</td><td>249</td></tr>",
                            "<tr><td>06040088T</td><td>272</td></tr>",
                            "<tr><td>06040089T</td><td>241</td></tr>",
                            "<tr><td>06040172T</td><td>246</td></tr>",
                            "<tr><td>06040173T</td><td>259</td></tr>",
                            "<tr><td>06040174T</td><td>233</td></tr>",
                            "<tr><td>06040175T</td><td>279</td></tr>",
                            "<tr><td>06040179T</td><td>259</td></tr>",
                            "<tr><td>06040180T</td><td>247</td></tr>",
                            "<tr><td>06040181T</td><td>266</td></tr>",
                            "<tr><td>06040182T</td><td>224</td></tr>",
                            "<tr><td>06040183T</td><td>297</td></tr>",
                            "<tr><td>06040184T</td><td>249</td></tr>",
                            "<tr><td>06040185T</td><td>242</td></tr>",
                            "<tr><td>06040186T</td><td>267</td></tr>",
                            "<tr><td>06040212T</td><td>227</td></tr>",
                            "<tr><td>06040213T</td><td>240</td></tr>",
                            "<tr><td>06040246T</td><td>252</td></tr>",
                            "<tr><td>06040247T</td><td>271</td></tr>",
                            "<tr><td>06040248T</td><td>281</td></tr>",
                            "<tr><td>06040323T</td><td>268</td></tr>",
                            "<tr><td>06040324T</td><td>200</td></tr>",
                            "<tr><td>06040325T</td><td>244</td></tr>",
                            "<tr><td>06040326T</td><td>279</td></tr>",
                            "<tr><td>06040327T</td><td>259</td></tr>",
                            "<tr><td>06040328T</td><td>283</td></tr>",
                            "<tr><td>06040329T</td><td>275</td></tr>",
                            "<tr><td>06040330T</td><td>262</td></tr>",
                            "<tr><td>06040331T</td><td>264</td></tr>",
                            "<tr><td>06040347T</td><td>252</td></tr>",
                            "<tr><td>06040350T</td><td>260</td></tr>",
                            "<tr><td>06040351T</td><td>272</td></tr>",
                            "<tr><td>06040352T</td><td>253</td></tr>",
                            "<tr><td>06040353T</td><td>270</td></tr>",
                            "<tr><td>06040354T</td><td>244</td></tr>",
                            "<tr><td>06040355T</td><td>241</td></tr>",
                            "<tr><td>06040356T</td><td>263</td></tr>",
                            "<tr><td>06040357T</td><td>275</td></tr>",
                            "<tr><td>06040378T</td><td>247</td></tr>",
                            "<tr><td>06040379T</td><td>297</td></tr>",
                            "<tr><td>06040380T</td><td>260</td></tr>",
                            "<tr><td>06040381T</td><td>253</td></tr>",
                            "<tr><td>06040382T</td><td>250</td></tr>",
                            "<tr><td>06040383T</td><td>245</td></tr>",
                            "<tr><td>06040384T</td><td>232</td></tr>",
                            "<tr><td>06040385T</td><td>269</td></tr>",
                            "<tr><td>06040386T</td><td>251</td></tr>",
                            "<tr><td>06040392T</td><td>264</td></tr>",
                            "<tr><td>06040393T</td><td>275</td></tr>",
                            "<tr><td>06040394T</td><td>271</td></tr>",
                            "<tr><td>06040395T</td><td>245</td></tr>",
                            "<tr><td>06040396T</td><td>278</td></tr>",
                            "<tr><td>06040397T</td><td>274</td></tr>",
                            "<tr><td>06040398T</td><td>271</td></tr>",
                            "<tr><td>06040399T</td><td>234</td></tr>",
                            "<tr><td>06040400T</td><td>254</td></tr>",
                            "<tr><td>06040446T</td><td>256</td></tr>",
                            "<tr><td>06050249T</td><td>237</td></tr>",
                            "<tr><td>06050301T</td><td>289</td></tr>",
                            "<tr><td>06050302T</td><td>277</td></tr>",
                            "<tr><td>06050303T</td><td>234</td></tr>",
                            "<tr><td>06080116T</td><td>252</td></tr>",
                            "<tr><td>06080117T</td><td>270</td></tr>",
                            "<tr><td>06080118T</td><td>241</td></tr>",
                            "<tr><td>06080120T</td><td>265</td></tr>",
                            "<tr><td>06080121T</td><td>253</td></tr>",
                            "<tr><td>06080122T</td><td>239</td></tr>",
                            "<tr><td>06080123T</td><td>276</td></tr>",
                            "<tr><td>06080124T</td><td>267</td></tr>",
                            "<tr><td>06080125T</td><td>262</td></tr>",
                            "<tr><td>06080126T</td><td>270</td></tr>",
                            "<tr><td>06080188T</td><td>265</td></tr>",
                            "<tr><td>06080189T</td><td>259</td></tr>",
                            "<tr><td>06080190T</td><td>252</td></tr>",
                            "<tr><td>06080191T</td><td>255</td></tr>",
                            "<tr><td>06080192T</td><td>235</td></tr>",
                            "<tr><td>06080193T</td><td>268</td></tr>",
                            "<tr><td>06080259T</td><td>245</td></tr>",
                            "<tr><td>06080332T</td><td>230</td></tr>",
                            "<tr><td>06080333T</td><td>247</td></tr>",
                            "<tr><td>06080334T</td><td>278</td></tr>",
                            "<tr><td>06080335T</td><td>263</td></tr>",
                            "<tr><td>06080336T</td><td>239</td></tr>",
                            "<tr><td>06080337T</td><td>260</td></tr>",
                            "<tr><td>06080338T</td><td>270</td></tr>",
                            "<tr><td>06080339T</td><td>245</td></tr>",
                            "<tr><td>06080407T</td><td>256</td></tr>",
                            "<tr><td>06080408T</td><td>250</td></tr>",
                            "<tr><td>06080409T</td><td>249</td></tr>",
                            "<tr><td>06080410T</td><td>241</td></tr>",
                            "<tr><td>06080411T</td><td>258</td></tr>",
                            "<tr><td>06080412T</td><td>254</td></tr>",
                            "<tr><td>06080413T</td><td>253</td></tr>",
                            "<tr><td>06080414T</td><td>250</td></tr>",
                            "<tr><td>06080415T</td><td>246</td></tr>",
                            "<tr><td>06080416T</td><td>270</td></tr>",
                            "<tr><td>06080417T</td><td>258</td></tr>",
                            "<tr><td>06080422T</td><td>271</td></tr>",
                            "<tr><td>06080423T</td><td>249</td></tr>",
                            "<tr><td>06080424T</td><td>233</td></tr>",
                            "<tr><td>06080425T</td><td>268</td></tr>",
                            "<tr><td>06080426T</td><td>265</td></tr>",
                            "<tr><td>06080427T</td><td>265</td></tr>",
                            "<tr><td>06080428T</td><td>265</td></tr>",
                            "<tr><td>06080429T</td><td>262</td></tr>",
                            "<tr><td>06080430T</td><td>249</td></tr>",
                            "<tr><td>06080440T</td><td>244</td></tr>",
                            "<tr><td>06080441T</td><td>267</td></tr>",
                            "<tr><td>07010136T</td><td>274</td></tr>",
                            "<tr><td>07010137T</td><td>258</td></tr>",
                            "<tr><td>07010138T</td><td>260</td></tr>",
                            "<tr><td>07010139T</td><td>271</td></tr>",
                            "<tr><td>07010140T</td><td>243</td></tr>",
                            "<tr><td>07010141T</td><td>257</td></tr>",
                            "<tr><td>07010142T</td><td>256</td></tr>",
                            "<tr><td>07010143T</td><td>222</td></tr>",
                            "<tr><td>07010144T</td><td>252</td></tr>",
                            "<tr><td>07010244T</td><td>264</td></tr>",
                            "<tr><td>07010371T</td><td>252</td></tr>",
                            "<tr><td>07010372T</td><td>241</td></tr>",
                            "<tr><td>07030103T</td><td>263</td></tr>",
                            "<tr><td>07030104T</td><td>244</td></tr>",
                            "<tr><td>07030105T</td><td>231</td></tr>",
                            "<tr><td>07030106T</td><td>262</td></tr>",
                            "<tr><td>07030107T</td><td>273</td></tr>",
                            "<tr><td>07030108T</td><td>239</td></tr>",
                            "<tr><td>07040047T</td><td>233</td></tr>",
                            "<tr><td>07040048T</td><td>250</td></tr>",
                            "<tr><td>07040049T</td><td>240</td></tr>",
                            "<tr><td>07040050T</td><td>257</td></tr>",
                            "<tr><td>07040051T</td><td>253</td></tr>",
                            "<tr><td>07040052T</td><td>247</td></tr>",
                            "<tr><td>07040053T</td><td>281</td></tr>",
                            "<tr><td>07040054T</td><td>280</td></tr>",
                            "<tr><td>07040055T</td><td>234</td></tr>",
                            "<tr><td>07040056T</td><td>265</td></tr>",
                            "<tr><td>07040057T</td><td>265</td></tr>",
                            "<tr><td>07040058T</td><td>274</td></tr>",
                            "<tr><td>07040059T</td><td>242</td></tr>",
                            "<tr><td>07040060T</td><td>257</td></tr>",
                            "<tr><td>07040061T</td><td>260</td></tr>",
                            "<tr><td>07040097T</td><td>256</td></tr>",
                            "<tr><td>07040098T</td><td>269</td></tr>",
                            "<tr><td>07040099T</td><td>255</td></tr>",
                            "<tr><td>07040100T</td><td>264</td></tr>",
                            "<tr><td>07040101T</td><td>240</td></tr>",
                            "<tr><td>07040102T</td><td>291</td></tr>",
                            "<tr><td>07040127T</td><td>248</td></tr>",
                            "<tr><td>07040128T</td><td>288</td></tr>",
                            "<tr><td>07040129T</td><td>274</td></tr>",
                            "<tr><td>07040130T</td><td>265</td></tr>",
                            "<tr><td>07040131T</td><td>268</td></tr>",
                            "<tr><td>07040132T</td><td>263</td></tr>",
                            "<tr><td>07040133T</td><td>268</td></tr>",
                            "<tr><td>07040134T</td><td>248</td></tr>",
                            "<tr><td>07040135T</td><td>248</td></tr>",
                            "<tr><td>07040165T</td><td>263</td></tr>",
                            "<tr><td>07040166T</td><td>249</td></tr>",
                            "<tr><td>07040167T</td><td>253</td></tr>",
                            "<tr><td>07040168T</td><td>287</td></tr>",
                            "<tr><td>07040169T</td><td>257</td></tr>",
                            "<tr><td>07040215T</td><td>251</td></tr>",
                            "<tr><td>07040216T</td><td>249</td></tr>",
                            "<tr><td>07040217T</td><td>266</td></tr>",
                            "<tr><td>07040218T</td><td>244</td></tr>",
                            "<tr><td>07040219T</td><td>241</td></tr>",
                            "<tr><td>07040257T</td><td>272</td></tr>",
                            "<tr><td>07040388T</td><td>248</td></tr>",
                            "<tr><td>07040389T</td><td>230</td></tr>",
                            "<tr><td>07040390T</td><td>256</td></tr>",
                            "<tr><td>07040391T</td><td>276</td></tr>",
                            "<tr><td>07050462T</td><td>253</td></tr>",
                            "<tr><td>07050463T</td><td>254</td></tr>",
                            "<tr><td>07050464T</td><td>248</td></tr>",
                            "<tr><td>07080062T</td><td>245</td></tr>",
                            "<tr><td>07080063T</td><td>246</td></tr>",
                            "<tr><td>07080064T</td><td>255</td></tr>",
                            "<tr><td>07080065T</td><td>275</td></tr>",
                            "<tr><td>07080150T</td><td>255</td></tr>",
                            "<tr><td>07080151T</td><td>249</td></tr>",
                            "<tr><td>07080152T</td><td>258</td></tr>",
                            "<tr><td>07080153T</td><td>260</td></tr>",
                            "<tr><td>07080154T</td><td>251</td></tr>",
                            "<tr><td>07080155T</td><td>231</td></tr>",
                            "<tr><td>07080156T</td><td>268</td></tr>",
                            "<tr><td>07080157T</td><td>287</td></tr>",
                            "<tr><td>07080158T</td><td>289</td></tr>",
                            "<tr><td>07080159T</td><td>254</td></tr>",
                            "<tr><td>07080160T</td><td>281</td></tr>",
                            "<tr><td>07080161T</td><td>271</td></tr>",
                            "<tr><td>07080162T</td><td>275</td></tr>",
                            "<tr><td>07080163T</td><td>270</td></tr>",
                            "<tr><td>07080164T</td><td>276</td></tr>",
                            "<tr><td>07080311T</td><td>258</td></tr>",
                            "<tr><td>07080312T</td><td>254</td></tr>",
                            "<tr><td>07080313T</td><td>249</td></tr>",
                            "<tr><td>07080314T</td><td>248</td></tr>",
                            "<tr><td>07080315T</td><td>255</td></tr>",
                            "<tr><td>07080316T</td><td>279</td></tr>",
                            "<tr><td>07080317T</td><td>255</td></tr>",
                            "<tr><td>07080318T</td><td>267</td></tr>",
                            "<tr><td>07080319T</td><td>229</td></tr>",
                            "<tr><td>07080418T</td><td>244</td></tr>",
                            "<tr><td>07080419T</td><td>266</td></tr>",
                            "<tr><td>07080420T</td><td>240</td></tr>",
                            "<tr><td>07080421T</td><td>253</td></tr>",
                            "<tr><td>07080466T</td><td>269</td></tr>",
                            "<tr><td>07080467T</td><td>232</td></tr>",
                            "<tr><td>07080468T</td><td>250</td></tr>",
                            "<tr><td>07080469T</td><td>275</td></tr>",
                            "<tr><td>07080470T</td><td>258</td></tr>",
                            "<tr><td>07080471T</td><td>236</td></tr>",
                            "<tr><td>08070472T</td><td>271</td></tr>",
                            "<tr><td>08070473T</td><td>240</td></tr>",
                            "<tr><td>08070474T</td><td>261</td></tr>",
                            "<tr><td>08070475T</td><td>225</td></tr>",
                            "<tr><td>08070476T</td><td>257</td></tr>",
                            "<tr><td>08070477T</td><td>272</td></tr>",
                            "<tr><td>08070478T</td><td>298</td></tr>",
                            "<tr><td>08070479T</td><td>265</td></tr>",
                            "<tr><td>08070480T</td><td>262</td></tr>",
                            "<tr><td>08070481T</td><td>263</td></tr>",
                            "<tr><td>08070482T</td><td>252</td></tr>",
                            "<tr><td>08070483T</td><td>243</td></tr>",
                            "<tr><td>08070484T</td><td>260</td></tr>",
                            "<tr><td>08070485T</td><td>244</td></tr>",
                            "<tr><td>08070486T</td><td>226</td></tr>",
                            "<tr><td>08070487T</td><td>233</td></tr>",
                            "<tr><td>08070488T</td><td>257</td></tr>",
                            "<tr><td>08070489T</td><td>273</td></tr>",
                            "<tr><td>08070490T</td><td>289</td></tr>",
                            "<tr><td>08070491T</td><td>283</td></tr>",
                            "<tr><td>08070492T</td><td>275</td></tr>",
                            "<tr><td>08070493T</td><td>289</td></tr>",
                            "<tr><td>08070494T</td><td>240</td></tr>",
                            "<tr><td>08070495T</td><td>277</td></tr>",
                            "<tr><td>F001-KB101</td><td>257</td></tr>",
                            "<tr><td>F007-NA201</td><td>955</td></tr>",
                            "<tr><td>F013-NA207</td><td>915</td></tr>",
                            "<tr><td>F021-IN215</td><td>919</td></tr>",
                            "<tr><td>G001-KB101</td><td>873</td></tr>",
                            "<tr><td>G013-NA201</td><td>991</td></tr>",
                            "<tr><td>G019-NA207</td><td>916</td></tr>",
                            "<tr><td>G023-FE301</td><td>944</td></tr>",
                            "<tr><td>G029-FE307</td><td>985</td></tr>",
                            "<tr><td>G038-FE316</td><td>957</td></tr>",
                            "<tr><td>G041-AL211</td><td>916</td></tr>",
                            "<tr><td>G048-PO218</td><td>957</td></tr>",
                            "<tr><td>G064-CI401</td><td>936</td></tr>",
                            "<tr><td>G073-CI410</td><td>967</td></tr>",
                            "<tr><td>G082-CI419</td><td>943</td></tr>",
                            "<tr><td>L001-KB101</td><td>940</td></tr>",
                            "<tr><td>L013-NA201</td><td>953</td></tr>",
                            "<tr><td>L019-NA207</td><td>915</td></tr>",
                            "<tr><td>L023-FE301</td><td>994</td></tr>",
                            "<tr><td>L029-FE307</td><td>952</td></tr>",
                            "<tr><td>L033-FE311</td><td>934</td></tr>",
                            "<tr><td>L041-AL211</td><td>915</td></tr>",
                            "<tr><td>L048-PO218</td><td>947</td></tr>",
                            "<tr><td>L064-CI401</td><td>945</td></tr>",
                            "<tr><td>L073-CI410</td><td>943</td></tr>",
                            "<tr><td>L082-CI419</td><td>902</td></tr>",
                            "<tr><td>N001-KB101</td><td>927</td></tr>",
                            "<tr><td>N008-NA201</td><td>954</td></tr>",
                            "<tr><td>N019-FE301</td><td>966</td></tr>",
                            "<tr><td>N029-AL212</td><td>966</td></tr>",
                            "<tr><td>N035-AL218</td><td>914</td></tr>",
                            "<tr><td>N039-AL222</td><td>974</td></tr>",
                            "<tr><td>U001-KI501</td><td>903</td></tr>",
                            "</table>"
                        ]
                    }
                }
            ],
            "execution_count": 41
        }
    ]
}